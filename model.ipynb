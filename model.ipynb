{
 "cells": [
  {
   "cell_type": "code",
   "execution_count": 4,
   "id": "590f07bf-0d39-4fb3-997f-082e58e0d3ed",
   "metadata": {},
   "outputs": [],
   "source": [
    "# !pip install transformers\n",
    "# !wget https://raw.githubusercontent.com/stkao05/eng-eval/main/train.csv"
   ]
  },
  {
   "cell_type": "code",
   "execution_count": 61,
   "id": "0a655c3d-aa13-4e27-abbd-9eaed5aaf2b9",
   "metadata": {
    "tags": []
   },
   "outputs": [],
   "source": [
    "import torch\n",
    "import pandas as pd\n",
    "import matplotlib.pyplot as plt\n",
    "import torch.nn as nn\n",
    "import torch.nn.functional as F\n",
    "import torch.optim as optim\n",
    "import numpy as np\n",
    "from tqdm import tqdm\n",
    "from torch.utils.data import Dataset, DataLoader\n",
    "from sklearn.model_selection import train_test_split\n",
    "from sklearn.preprocessing import StandardScaler"
   ]
  },
  {
   "cell_type": "code",
   "execution_count": 6,
   "id": "c9c0718f-26b2-4705-a506-bed42916b7cd",
   "metadata": {},
   "outputs": [
    {
     "data": {
      "text/plain": [
       "device(type='cpu')"
      ]
     },
     "execution_count": 6,
     "metadata": {},
     "output_type": "execute_result"
    }
   ],
   "source": [
    "device = torch.device(\"cuda\") if torch.cuda.is_available() else torch.device(\"cpu\")\n",
    "device"
   ]
  },
  {
   "cell_type": "markdown",
   "id": "64ae2272-1a5f-429e-b85f-5179b288dd7a",
   "metadata": {},
   "source": [
    "## Data Exploration"
   ]
  },
  {
   "cell_type": "code",
   "execution_count": 8,
   "id": "f5d45c48-9e6b-42ee-9a37-5dfe0b1942ad",
   "metadata": {},
   "outputs": [
    {
     "data": {
      "text/html": [
       "<div>\n",
       "<style scoped>\n",
       "    .dataframe tbody tr th:only-of-type {\n",
       "        vertical-align: middle;\n",
       "    }\n",
       "\n",
       "    .dataframe tbody tr th {\n",
       "        vertical-align: top;\n",
       "    }\n",
       "\n",
       "    .dataframe thead th {\n",
       "        text-align: right;\n",
       "    }\n",
       "</style>\n",
       "<table border=\"1\" class=\"dataframe\">\n",
       "  <thead>\n",
       "    <tr style=\"text-align: right;\">\n",
       "      <th></th>\n",
       "      <th>text_id</th>\n",
       "      <th>full_text</th>\n",
       "      <th>cohesion</th>\n",
       "      <th>syntax</th>\n",
       "      <th>vocabulary</th>\n",
       "      <th>phraseology</th>\n",
       "      <th>grammar</th>\n",
       "      <th>conventions</th>\n",
       "    </tr>\n",
       "  </thead>\n",
       "  <tbody>\n",
       "    <tr>\n",
       "      <th>0</th>\n",
       "      <td>0016926B079C</td>\n",
       "      <td>I think that students would benefit from learn...</td>\n",
       "      <td>3.5</td>\n",
       "      <td>3.5</td>\n",
       "      <td>3.0</td>\n",
       "      <td>3.0</td>\n",
       "      <td>4.0</td>\n",
       "      <td>3.0</td>\n",
       "    </tr>\n",
       "    <tr>\n",
       "      <th>1</th>\n",
       "      <td>0022683E9EA5</td>\n",
       "      <td>When a problem is a change you have to let it ...</td>\n",
       "      <td>2.5</td>\n",
       "      <td>2.5</td>\n",
       "      <td>3.0</td>\n",
       "      <td>2.0</td>\n",
       "      <td>2.0</td>\n",
       "      <td>2.5</td>\n",
       "    </tr>\n",
       "    <tr>\n",
       "      <th>2</th>\n",
       "      <td>00299B378633</td>\n",
       "      <td>Dear, Principal\\n\\nIf u change the school poli...</td>\n",
       "      <td>3.0</td>\n",
       "      <td>3.5</td>\n",
       "      <td>3.0</td>\n",
       "      <td>3.0</td>\n",
       "      <td>3.0</td>\n",
       "      <td>2.5</td>\n",
       "    </tr>\n",
       "    <tr>\n",
       "      <th>3</th>\n",
       "      <td>003885A45F42</td>\n",
       "      <td>The best time in life is when you become yours...</td>\n",
       "      <td>4.5</td>\n",
       "      <td>4.5</td>\n",
       "      <td>4.5</td>\n",
       "      <td>4.5</td>\n",
       "      <td>4.0</td>\n",
       "      <td>5.0</td>\n",
       "    </tr>\n",
       "    <tr>\n",
       "      <th>4</th>\n",
       "      <td>0049B1DF5CCC</td>\n",
       "      <td>Small act of kindness can impact in other peop...</td>\n",
       "      <td>2.5</td>\n",
       "      <td>3.0</td>\n",
       "      <td>3.0</td>\n",
       "      <td>3.0</td>\n",
       "      <td>2.5</td>\n",
       "      <td>2.5</td>\n",
       "    </tr>\n",
       "  </tbody>\n",
       "</table>\n",
       "</div>"
      ],
      "text/plain": [
       "        text_id                                          full_text  cohesion  \\\n",
       "0  0016926B079C  I think that students would benefit from learn...       3.5   \n",
       "1  0022683E9EA5  When a problem is a change you have to let it ...       2.5   \n",
       "2  00299B378633  Dear, Principal\\n\\nIf u change the school poli...       3.0   \n",
       "3  003885A45F42  The best time in life is when you become yours...       4.5   \n",
       "4  0049B1DF5CCC  Small act of kindness can impact in other peop...       2.5   \n",
       "\n",
       "   syntax  vocabulary  phraseology  grammar  conventions  \n",
       "0     3.5         3.0          3.0      4.0          3.0  \n",
       "1     2.5         3.0          2.0      2.0          2.5  \n",
       "2     3.5         3.0          3.0      3.0          2.5  \n",
       "3     4.5         4.5          4.5      4.0          5.0  \n",
       "4     3.0         3.0          3.0      2.5          2.5  "
      ]
     },
     "execution_count": 8,
     "metadata": {},
     "output_type": "execute_result"
    }
   ],
   "source": [
    "train_df = pd.read_csv(\"train.csv\")\n",
    "train_df.head(5)"
   ]
  },
  {
   "cell_type": "code",
   "execution_count": 9,
   "id": "0da6c28d-814e-4d42-b3a4-2ffed6211bed",
   "metadata": {},
   "outputs": [
    {
     "data": {
      "text/plain": [
       "3911"
      ]
     },
     "execution_count": 9,
     "metadata": {},
     "output_type": "execute_result"
    }
   ],
   "source": [
    "len(train_df)"
   ]
  },
  {
   "cell_type": "code",
   "execution_count": 10,
   "id": "ab2948eb-3446-4511-bd89-9c601c52911e",
   "metadata": {},
   "outputs": [
    {
     "name": "stdout",
     "output_type": "stream",
     "text": [
      "I think that students would benefit from learning at home,because they wont have to change and get up early in the morning to shower and do there hair. taking only classes helps them because at there house they'll be pay more attention. they will be comfortable at home.\n",
      "\n",
      "The hardest part of school is getting ready. you wake up go brush your teeth and go to your closet and look at your cloths. after you think you picked a outfit u go look in the mirror and youll either not like it or you look and see a stain. Then you'll have to change. with the online classes you can wear anything and stay home and you wont need to stress about what to wear.\n",
      "\n",
      "most students usually take showers before school. they either take it before they sleep or when they wake up. some students do both to smell good. that causes them do miss the bus and effects on there lesson time cause they come late to school. when u have online classes u wont need to miss lessons cause you can get everything set up and go take a shower and when u get out your ready to go.\n",
      "\n",
      "when your home your comfortable and you pay attention. it gives then an advantage to be smarter and even pass there classmates on class work. public schools are difficult even if you try. some teacher dont know how to teach it in then way that students understand it. that causes students to fail and they may repeat the class.              \n"
     ]
    }
   ],
   "source": [
    "print(train_df.full_text[0])"
   ]
  },
  {
   "cell_type": "code",
   "execution_count": 12,
   "id": "efccdbab-b21b-4978-9e8f-6338410608d6",
   "metadata": {},
   "outputs": [
    {
     "data": {
      "image/png": "[encoded data removed]",
      "text/plain": [
       "<Figure size 1000x1000 with 6 Axes>"
      ]
     },
     "metadata": {},
     "output_type": "display_data"
    }
   ],
   "source": [
    "def visualize_dist(df):\n",
    "    fig, axs = plt.subplots(3, 2)\n",
    "    fig.set_size_inches(10, 10)\n",
    "    bins = torch.arange(1, 6, 0.5)\n",
    "\n",
    "    axs[0, 0].hist(df.cohesion.values, bins=bins);\n",
    "    axs[0, 0].set_title('cohesion')\n",
    "    axs[0, 1].hist(df.syntax.values, bins=bins);\n",
    "    axs[0, 1].set_title('syntax')\n",
    "    axs[1, 0].hist(df.vocabulary.values, bins=bins);\n",
    "    axs[1, 0].set_title('vocabulary')\n",
    "    axs[1, 1].hist(df.phraseology, bins=bins);\n",
    "    axs[1, 1].set_title('phraseology')\n",
    "    axs[2, 0].hist(df.grammar, bins=bins);\n",
    "    axs[2, 0].set_title('grammar')\n",
    "    axs[2, 1].hist(df.conventions, bins=bins);\n",
    "    axs[2, 1].set_title('conventions')\n",
    "    \n",
    "visualize_dist(train_df)"
   ]
  },
  {
   "cell_type": "code",
   "execution_count": 13,
   "id": "9e8f32af-fad8-4a9c-97bc-99d93c6e717e",
   "metadata": {},
   "outputs": [
    {
     "data": {
      "text/html": [
       "<div>\n",
       "<style scoped>\n",
       "    .dataframe tbody tr th:only-of-type {\n",
       "        vertical-align: middle;\n",
       "    }\n",
       "\n",
       "    .dataframe tbody tr th {\n",
       "        vertical-align: top;\n",
       "    }\n",
       "\n",
       "    .dataframe thead th {\n",
       "        text-align: right;\n",
       "    }\n",
       "</style>\n",
       "<table border=\"1\" class=\"dataframe\">\n",
       "  <thead>\n",
       "    <tr style=\"text-align: right;\">\n",
       "      <th></th>\n",
       "      <th>text_id</th>\n",
       "      <th>full_text</th>\n",
       "      <th>cohesion</th>\n",
       "      <th>syntax</th>\n",
       "      <th>vocabulary</th>\n",
       "      <th>phraseology</th>\n",
       "      <th>grammar</th>\n",
       "      <th>conventions</th>\n",
       "    </tr>\n",
       "  </thead>\n",
       "  <tbody>\n",
       "    <tr>\n",
       "      <th>514</th>\n",
       "      <td>2716F5E20A4F</td>\n",
       "      <td>The students be required to take music ,drama ...</td>\n",
       "      <td>1.5</td>\n",
       "      <td>1.0</td>\n",
       "      <td>1.5</td>\n",
       "      <td>1.0</td>\n",
       "      <td>1.0</td>\n",
       "      <td>1.5</td>\n",
       "    </tr>\n",
       "    <tr>\n",
       "      <th>952</th>\n",
       "      <td>48EA282A4EAF</td>\n",
       "      <td>some student offer distance learning as an opt...</td>\n",
       "      <td>1.0</td>\n",
       "      <td>1.0</td>\n",
       "      <td>1.0</td>\n",
       "      <td>1.0</td>\n",
       "      <td>1.0</td>\n",
       "      <td>1.0</td>\n",
       "    </tr>\n",
       "    <tr>\n",
       "      <th>1528</th>\n",
       "      <td>75A20F93C2C4</td>\n",
       "      <td>i like to work with a group a cash if you work...</td>\n",
       "      <td>1.5</td>\n",
       "      <td>1.5</td>\n",
       "      <td>1.5</td>\n",
       "      <td>1.0</td>\n",
       "      <td>1.0</td>\n",
       "      <td>1.0</td>\n",
       "    </tr>\n",
       "    <tr>\n",
       "      <th>1540</th>\n",
       "      <td>767533E12569</td>\n",
       "      <td>he is a good because they are the prescient an...</td>\n",
       "      <td>1.0</td>\n",
       "      <td>1.0</td>\n",
       "      <td>1.0</td>\n",
       "      <td>1.0</td>\n",
       "      <td>1.0</td>\n",
       "      <td>1.0</td>\n",
       "    </tr>\n",
       "    <tr>\n",
       "      <th>1554</th>\n",
       "      <td>776FBF88E6FF</td>\n",
       "      <td>Welll its going to be ah good beefit but in th...</td>\n",
       "      <td>1.5</td>\n",
       "      <td>1.5</td>\n",
       "      <td>2.0</td>\n",
       "      <td>2.0</td>\n",
       "      <td>1.0</td>\n",
       "      <td>1.0</td>\n",
       "    </tr>\n",
       "  </tbody>\n",
       "</table>\n",
       "</div>"
      ],
      "text/plain": [
       "           text_id                                          full_text  \\\n",
       "514   2716F5E20A4F  The students be required to take music ,drama ...   \n",
       "952   48EA282A4EAF  some student offer distance learning as an opt...   \n",
       "1528  75A20F93C2C4  i like to work with a group a cash if you work...   \n",
       "1540  767533E12569  he is a good because they are the prescient an...   \n",
       "1554  776FBF88E6FF  Welll its going to be ah good beefit but in th...   \n",
       "\n",
       "      cohesion  syntax  vocabulary  phraseology  grammar  conventions  \n",
       "514        1.5     1.0         1.5          1.0      1.0          1.5  \n",
       "952        1.0     1.0         1.0          1.0      1.0          1.0  \n",
       "1528       1.5     1.5         1.5          1.0      1.0          1.0  \n",
       "1540       1.0     1.0         1.0          1.0      1.0          1.0  \n",
       "1554       1.5     1.5         2.0          2.0      1.0          1.0  "
      ]
     },
     "execution_count": 13,
     "metadata": {},
     "output_type": "execute_result"
    }
   ],
   "source": [
    "train_df.loc[train_df['grammar'] == 1].head(5)"
   ]
  },
  {
   "cell_type": "code",
   "execution_count": 16,
   "id": "862710a6-99b9-4b9c-b93f-ba76b3033353",
   "metadata": {},
   "outputs": [
    {
     "name": "stdout",
     "output_type": "stream",
     "text": [
      "he is a good because they are the prescient and us. now the are more procession a other prescient and us. because and the more many education for student and school. the more school for one because he have a one women the have many education for a other because the good more the one is information for access because is not like the brazen giant of Greek fame with conquering one nation for is the imprison the eyes command the one book for people the us give more your lied your huddled Farmer with silent lips the more the one is for you because the are a one solution for you and a other people he have a more the one solution for you here ancient lands your storied pound Aries she with silent lips pledge of a in order people he have a education\n",
      "\n",
      "Do we accomplish more the if we are always doing something or does inactivity also serve a purpose take a position on this for you and specific examples. take a position for you because the are a never much may be a always how many I planned and my people he have the on the right to ported and the after type your response in the space. than new colossus for the more have a one they solution for is came one o two people the same time. because the more that in and here name norther of Exiles form her barmen the are one sous ion. \n"
     ]
    }
   ],
   "source": [
    "print(train_df.full_text[1540])"
   ]
  },
  {
   "cell_type": "code",
   "execution_count": 17,
   "id": "20db0d40-853c-46c0-a1e4-74c851399efd",
   "metadata": {},
   "outputs": [
    {
     "data": {
      "text/html": [
       "<div>\n",
       "<style scoped>\n",
       "    .dataframe tbody tr th:only-of-type {\n",
       "        vertical-align: middle;\n",
       "    }\n",
       "\n",
       "    .dataframe tbody tr th {\n",
       "        vertical-align: top;\n",
       "    }\n",
       "\n",
       "    .dataframe thead th {\n",
       "        text-align: right;\n",
       "    }\n",
       "</style>\n",
       "<table border=\"1\" class=\"dataframe\">\n",
       "  <thead>\n",
       "    <tr style=\"text-align: right;\">\n",
       "      <th></th>\n",
       "      <th>cohesion</th>\n",
       "      <th>syntax</th>\n",
       "      <th>vocabulary</th>\n",
       "      <th>phraseology</th>\n",
       "      <th>grammar</th>\n",
       "      <th>conventions</th>\n",
       "    </tr>\n",
       "  </thead>\n",
       "  <tbody>\n",
       "    <tr>\n",
       "      <th>cohesion</th>\n",
       "      <td>1.000000</td>\n",
       "      <td>0.695459</td>\n",
       "      <td>0.666151</td>\n",
       "      <td>0.690058</td>\n",
       "      <td>0.638689</td>\n",
       "      <td>0.666151</td>\n",
       "    </tr>\n",
       "    <tr>\n",
       "      <th>syntax</th>\n",
       "      <td>0.695459</td>\n",
       "      <td>1.000000</td>\n",
       "      <td>0.680562</td>\n",
       "      <td>0.725467</td>\n",
       "      <td>0.709525</td>\n",
       "      <td>0.700025</td>\n",
       "    </tr>\n",
       "    <tr>\n",
       "      <th>vocabulary</th>\n",
       "      <td>0.666151</td>\n",
       "      <td>0.680562</td>\n",
       "      <td>1.000000</td>\n",
       "      <td>0.735261</td>\n",
       "      <td>0.654852</td>\n",
       "      <td>0.664292</td>\n",
       "    </tr>\n",
       "    <tr>\n",
       "      <th>phraseology</th>\n",
       "      <td>0.690058</td>\n",
       "      <td>0.725467</td>\n",
       "      <td>0.735261</td>\n",
       "      <td>1.000000</td>\n",
       "      <td>0.719746</td>\n",
       "      <td>0.666842</td>\n",
       "    </tr>\n",
       "    <tr>\n",
       "      <th>grammar</th>\n",
       "      <td>0.638689</td>\n",
       "      <td>0.709525</td>\n",
       "      <td>0.654852</td>\n",
       "      <td>0.719746</td>\n",
       "      <td>1.000000</td>\n",
       "      <td>0.673301</td>\n",
       "    </tr>\n",
       "    <tr>\n",
       "      <th>conventions</th>\n",
       "      <td>0.666151</td>\n",
       "      <td>0.700025</td>\n",
       "      <td>0.664292</td>\n",
       "      <td>0.666842</td>\n",
       "      <td>0.673301</td>\n",
       "      <td>1.000000</td>\n",
       "    </tr>\n",
       "  </tbody>\n",
       "</table>\n",
       "</div>"
      ],
      "text/plain": [
       "             cohesion    syntax  vocabulary  phraseology   grammar  \\\n",
       "cohesion     1.000000  0.695459    0.666151     0.690058  0.638689   \n",
       "syntax       0.695459  1.000000    0.680562     0.725467  0.709525   \n",
       "vocabulary   0.666151  0.680562    1.000000     0.735261  0.654852   \n",
       "phraseology  0.690058  0.725467    0.735261     1.000000  0.719746   \n",
       "grammar      0.638689  0.709525    0.654852     0.719746  1.000000   \n",
       "conventions  0.666151  0.700025    0.664292     0.666842  0.673301   \n",
       "\n",
       "             conventions  \n",
       "cohesion        0.666151  \n",
       "syntax          0.700025  \n",
       "vocabulary      0.664292  \n",
       "phraseology     0.666842  \n",
       "grammar         0.673301  \n",
       "conventions     1.000000  "
      ]
     },
     "execution_count": 17,
     "metadata": {},
     "output_type": "execute_result"
    }
   ],
   "source": [
    "train_df.corr(numeric_only=True)"
   ]
  },
  {
   "cell_type": "markdown",
   "id": "c9b4737c-aac6-4496-9fb9-c59b51f735f2",
   "metadata": {},
   "source": [
    "## Processing Feature "
   ]
  },
  {
   "cell_type": "code",
   "execution_count": 78,
   "id": "79bf1985-bd92-4806-8cdb-2ea393703108",
   "metadata": {},
   "outputs": [
    {
     "data": {
      "text/plain": [
       "array([[-2.9051126 ],\n",
       "       [-1.47603325],\n",
       "       [-0.0469539 ],\n",
       "       [ 1.38212545],\n",
       "       [ 2.8112048 ]])"
      ]
     },
     "execution_count": 78,
     "metadata": {},
     "output_type": "execute_result"
    }
   ],
   "source": [
    "z = train_df[\"grammar\"]\n",
    "z = torch.tensor(z).view(-1, 1)\n",
    "scaler = StandardScaler().fit(z)\n",
    "scaler.transform([[1], [2], [3], [4], [5]])"
   ]
  },
  {
   "cell_type": "code",
   "execution_count": 83,
   "id": "c2cf2e36-1d0a-4010-932a-8bcd6c81baa5",
   "metadata": {},
   "outputs": [],
   "source": [
    "train_df[\"grammar_std\"] = train_df[\"grammar\"].apply(lambda x:scaler.transform([[x]])[0][0])"
   ]
  },
  {
   "cell_type": "code",
   "execution_count": 84,
   "id": "702d2a1f-1020-4cff-ae9a-15585ea707f8",
   "metadata": {},
   "outputs": [
    {
     "data": {
      "text/html": [
       "<div>\n",
       "<style scoped>\n",
       "    .dataframe tbody tr th:only-of-type {\n",
       "        vertical-align: middle;\n",
       "    }\n",
       "\n",
       "    .dataframe tbody tr th {\n",
       "        vertical-align: top;\n",
       "    }\n",
       "\n",
       "    .dataframe thead th {\n",
       "        text-align: right;\n",
       "    }\n",
       "</style>\n",
       "<table border=\"1\" class=\"dataframe\">\n",
       "  <thead>\n",
       "    <tr style=\"text-align: right;\">\n",
       "      <th></th>\n",
       "      <th>text_id</th>\n",
       "      <th>full_text</th>\n",
       "      <th>cohesion</th>\n",
       "      <th>syntax</th>\n",
       "      <th>vocabulary</th>\n",
       "      <th>phraseology</th>\n",
       "      <th>grammar</th>\n",
       "      <th>conventions</th>\n",
       "      <th>grammar_std</th>\n",
       "    </tr>\n",
       "  </thead>\n",
       "  <tbody>\n",
       "    <tr>\n",
       "      <th>0</th>\n",
       "      <td>0016926B079C</td>\n",
       "      <td>I think that students would benefit from learn...</td>\n",
       "      <td>3.5</td>\n",
       "      <td>3.5</td>\n",
       "      <td>3.0</td>\n",
       "      <td>3.0</td>\n",
       "      <td>4.0</td>\n",
       "      <td>3.0</td>\n",
       "      <td>1.382125</td>\n",
       "    </tr>\n",
       "    <tr>\n",
       "      <th>1</th>\n",
       "      <td>0022683E9EA5</td>\n",
       "      <td>When a problem is a change you have to let it ...</td>\n",
       "      <td>2.5</td>\n",
       "      <td>2.5</td>\n",
       "      <td>3.0</td>\n",
       "      <td>2.0</td>\n",
       "      <td>2.0</td>\n",
       "      <td>2.5</td>\n",
       "      <td>-1.476033</td>\n",
       "    </tr>\n",
       "    <tr>\n",
       "      <th>2</th>\n",
       "      <td>00299B378633</td>\n",
       "      <td>Dear, Principal\\n\\nIf u change the school poli...</td>\n",
       "      <td>3.0</td>\n",
       "      <td>3.5</td>\n",
       "      <td>3.0</td>\n",
       "      <td>3.0</td>\n",
       "      <td>3.0</td>\n",
       "      <td>2.5</td>\n",
       "      <td>-0.046954</td>\n",
       "    </tr>\n",
       "    <tr>\n",
       "      <th>3</th>\n",
       "      <td>003885A45F42</td>\n",
       "      <td>The best time in life is when you become yours...</td>\n",
       "      <td>4.5</td>\n",
       "      <td>4.5</td>\n",
       "      <td>4.5</td>\n",
       "      <td>4.5</td>\n",
       "      <td>4.0</td>\n",
       "      <td>5.0</td>\n",
       "      <td>1.382125</td>\n",
       "    </tr>\n",
       "    <tr>\n",
       "      <th>4</th>\n",
       "      <td>0049B1DF5CCC</td>\n",
       "      <td>Small act of kindness can impact in other peop...</td>\n",
       "      <td>2.5</td>\n",
       "      <td>3.0</td>\n",
       "      <td>3.0</td>\n",
       "      <td>3.0</td>\n",
       "      <td>2.5</td>\n",
       "      <td>2.5</td>\n",
       "      <td>-0.761494</td>\n",
       "    </tr>\n",
       "  </tbody>\n",
       "</table>\n",
       "</div>"
      ],
      "text/plain": [
       "        text_id                                          full_text  cohesion  \\\n",
       "0  0016926B079C  I think that students would benefit from learn...       3.5   \n",
       "1  0022683E9EA5  When a problem is a change you have to let it ...       2.5   \n",
       "2  00299B378633  Dear, Principal\\n\\nIf u change the school poli...       3.0   \n",
       "3  003885A45F42  The best time in life is when you become yours...       4.5   \n",
       "4  0049B1DF5CCC  Small act of kindness can impact in other peop...       2.5   \n",
       "\n",
       "   syntax  vocabulary  phraseology  grammar  conventions  grammar_std  \n",
       "0     3.5         3.0          3.0      4.0          3.0     1.382125  \n",
       "1     2.5         3.0          2.0      2.0          2.5    -1.476033  \n",
       "2     3.5         3.0          3.0      3.0          2.5    -0.046954  \n",
       "3     4.5         4.5          4.5      4.0          5.0     1.382125  \n",
       "4     3.0         3.0          3.0      2.5          2.5    -0.761494  "
      ]
     },
     "execution_count": 84,
     "metadata": {},
     "output_type": "execute_result"
    }
   ],
   "source": [
    "train_df.head(5)"
   ]
  },
  {
   "cell_type": "code",
   "execution_count": 85,
   "id": "9fb04fd3-53e5-402d-b4d6-328584fd242d",
   "metadata": {},
   "outputs": [
    {
     "data": {
      "text/plain": [
       "(3519, 392)"
      ]
     },
     "execution_count": 85,
     "metadata": {},
     "output_type": "execute_result"
    }
   ],
   "source": [
    "train, valid = train_test_split(train_df, test_size=0.1, shuffle=True)\n",
    "\n",
    "splits = {\n",
    " \"train\": train,\n",
    " \"valid\": valid,\n",
    "}\n",
    "\n",
    "len(train), len(valid)"
   ]
  },
  {
   "cell_type": "markdown",
   "id": "25655ca9-20cb-4f6c-ad92-e6037680b95f",
   "metadata": {},
   "source": [
    "# Tokenizer"
   ]
  },
  {
   "cell_type": "code",
   "execution_count": 86,
   "id": "fe2a344f-1348-438c-b180-944b9e859480",
   "metadata": {},
   "outputs": [
    {
     "name": "stderr",
     "output_type": "stream",
     "text": [
      "Some weights of the model checkpoint at bert-base-uncased were not used when initializing BertModel: ['cls.predictions.decoder.weight', 'cls.predictions.transform.dense.weight', 'cls.predictions.transform.LayerNorm.bias', 'cls.predictions.bias', 'cls.predictions.transform.dense.bias', 'cls.seq_relationship.weight', 'cls.seq_relationship.bias', 'cls.predictions.transform.LayerNorm.weight']\n",
      "- This IS expected if you are initializing BertModel from the checkpoint of a model trained on another task or with another architecture (e.g. initializing a BertForSequenceClassification model from a BertForPreTraining model).\n",
      "- This IS NOT expected if you are initializing BertModel from the checkpoint of a model that you expect to be exactly identical (initializing a BertForSequenceClassification model from a BertForSequenceClassification model).\n"
     ]
    }
   ],
   "source": [
    "from transformers import BertModel\n",
    "from transformers import BertTokenizer\n",
    "\n",
    "tz = BertTokenizer.from_pretrained(\"bert-base-uncased\")\n",
    "bert = BertModel.from_pretrained(\"bert-base-uncased\")\n",
    "bert_embed = bert.embeddings.word_embeddings"
   ]
  },
  {
   "cell_type": "code",
   "execution_count": 87,
   "id": "44d05189-3c98-445e-a91b-8964ea9bbd01",
   "metadata": {},
   "outputs": [
    {
     "data": {
      "text/plain": [
       "{'input_ids': [101, 1045, 2066, 2082, 1012, 2074, 12489, 1012, 102], 'token_type_ids': [0, 0, 0, 0, 0, 0, 0, 0, 0], 'attention_mask': [1, 1, 1, 1, 1, 1, 1, 1, 1]}"
      ]
     },
     "execution_count": 87,
     "metadata": {},
     "output_type": "execute_result"
    }
   ],
   "source": [
    "t = '''I like school.\n",
    "\n",
    "just kidding.'''\n",
    "enc = tz(t)\n",
    "enc"
   ]
  },
  {
   "cell_type": "code",
   "execution_count": 88,
   "id": "79dc8f8f-d040-4259-a24a-b1f44098a9cd",
   "metadata": {},
   "outputs": [
    {
     "data": {
      "text/plain": [
       "['[CLS]', 'i', 'like', 'school', '.', 'just', 'kidding', '.', '[SEP]']"
      ]
     },
     "execution_count": 88,
     "metadata": {},
     "output_type": "execute_result"
    }
   ],
   "source": [
    "tz.convert_ids_to_tokens(enc[\"input_ids\"])"
   ]
  },
  {
   "cell_type": "markdown",
   "id": "4d98faba-ee6a-4d4a-b89e-bf8b223dfc19",
   "metadata": {},
   "source": [
    "We can see that the tokenizer would:\n",
    "- Remove newline\n",
    "- Add [CLS] and [SEP] to beginning and end of text\n",
    "\n",
    "In the context of this model where we are evaluating an essay, we don't need special tokens as they are mostly used for generative model (?)"
   ]
  },
  {
   "cell_type": "code",
   "execution_count": 89,
   "id": "9d5d198f-dd36-42db-a948-be5d366f356d",
   "metadata": {},
   "outputs": [
    {
     "data": {
      "text/plain": [
       "['i', 'like', 'school', '.', 'hello', 'world', '.']"
      ]
     },
     "execution_count": 89,
     "metadata": {},
     "output_type": "execute_result"
    }
   ],
   "source": [
    "t = '''I like school.\n",
    "\n",
    "Hello world.'''\n",
    "enc = tz(t, add_special_tokens=False)\n",
    "tz.convert_ids_to_tokens(enc[\"input_ids\"])"
   ]
  },
  {
   "cell_type": "code",
   "execution_count": 90,
   "id": "f5dbafc3-4427-4168-b24b-9fd272c49d5c",
   "metadata": {},
   "outputs": [
    {
     "data": {
      "text/plain": [
       "{'input_ids': [[1045, 2066, 2082], [7592, 0, 0]], 'token_type_ids': [[0, 0, 0], [0, 0, 0]], 'attention_mask': [[1, 1, 1], [1, 0, 0]]}"
      ]
     },
     "execution_count": 90,
     "metadata": {},
     "output_type": "execute_result"
    }
   ],
   "source": [
    "x = [\"i like school\", \"hello\"] \n",
    "tz(x, add_special_tokens=False, padding=\"longest\")"
   ]
  },
  {
   "cell_type": "code",
   "execution_count": 91,
   "id": "31f381bd-6c6d-48ee-816d-b611e5bf242c",
   "metadata": {},
   "outputs": [
    {
     "name": "stderr",
     "output_type": "stream",
     "text": [
      "Token indices sequence length is longer than the specified maximum sequence length for this model (924 > 512). Running this sequence through the model will result in indexing errors\n"
     ]
    },
    {
     "data": {
      "text/plain": [
       "{'input_ids': tensor([[1045, 5993, 2138,  ...,    0,    0,    0],\n",
       "        [2028, 2095, 3283,  ..., 2000, 2817, 1012],\n",
       "        [2748, 1010, 1045,  ...,    0,    0,    0],\n",
       "        [3112, 2003, 2055,  ...,    0,    0,    0],\n",
       "        [1045, 2052, 2066,  ...,    0,    0,    0]]), 'token_type_ids': tensor([[0, 0, 0,  ..., 0, 0, 0],\n",
       "        [0, 0, 0,  ..., 0, 0, 0],\n",
       "        [0, 0, 0,  ..., 0, 0, 0],\n",
       "        [0, 0, 0,  ..., 0, 0, 0],\n",
       "        [0, 0, 0,  ..., 0, 0, 0]]), 'attention_mask': tensor([[1, 1, 1,  ..., 0, 0, 0],\n",
       "        [1, 1, 1,  ..., 1, 1, 1],\n",
       "        [1, 1, 1,  ..., 0, 0, 0],\n",
       "        [1, 1, 1,  ..., 0, 0, 0],\n",
       "        [1, 1, 1,  ..., 0, 0, 0]])}"
      ]
     },
     "execution_count": 91,
     "metadata": {},
     "output_type": "execute_result"
    }
   ],
   "source": [
    "df = splits[\"train\"]\n",
    "serie = df.full_text.iloc[0:5]\n",
    "txt = list(serie)\n",
    "enc = tz(txt, add_special_tokens=False, padding=\"longest\", return_tensors=\"pt\")\n",
    "enc"
   ]
  },
  {
   "cell_type": "code",
   "execution_count": 93,
   "id": "afc95e90-f67e-405e-bf88-8a4cff8542da",
   "metadata": {},
   "outputs": [
    {
     "data": {
      "text/plain": [
       "(torch.Size([32, 256]), torch.Size([32]))"
      ]
     },
     "execution_count": 93,
     "metadata": {},
     "output_type": "execute_result"
    }
   ],
   "source": [
    "class DataFrameIterator:\n",
    "    def __init__(self, df, batch_size):\n",
    "        self.df = df\n",
    "        self.batch_size = batch_size\n",
    "        \n",
    "    def __iter__(self):\n",
    "        self.start = 0\n",
    "        return self\n",
    "    \n",
    "    def __len__(self):\n",
    "        last = 0 if len(self.df) % self.batch_size == 0 else 1\n",
    "        return (len(self.df) // self.batch_size) + last\n",
    "    \n",
    "    # x: (B, L) - contains interger, representing vocab index\n",
    "    # y: (L) - a list of integer, grammar score\n",
    "    def __next__(self):\n",
    "        if self.start >= len(self.df):\n",
    "            raise StopIteration()\n",
    "        \n",
    "        end = self.start + self.batch_size\n",
    "        txt = list(self.df.full_text.iloc[self.start:end])\n",
    "        enc = tz(txt, \n",
    "                 add_special_tokens=False,\n",
    "                 return_tensors=\"pt\",\n",
    "                 max_length=256,\n",
    "                 padding=\"max_length\",\n",
    "                 truncation=True)\n",
    "        \n",
    "        x = enc[\"input_ids\"].to(device)\n",
    "        y = torch.tensor(list(self.df.grammar_std.iloc[self.start:end]), device=device, dtype=torch.float64)\n",
    "        self.start = end\n",
    "        return x, y    \n",
    "    \n",
    "itr = iter(DataFrameIterator(splits[\"train\"], 32))\n",
    "x, y = next(itr)\n",
    "x.shape, y.shape"
   ]
  },
  {
   "cell_type": "code",
   "execution_count": 95,
   "id": "fce77059-455d-4372-8b1a-bcfd37ba961b",
   "metadata": {},
   "outputs": [
    {
     "data": {
      "text/plain": [
       "tensor([ 0.6676,  0.6676, -0.7615, -1.4760, -0.0470, -0.7615,  0.6676, -0.0470,\n",
       "        -0.0470, -1.4760, -0.0470,  0.6676,  0.6676, -0.0470, -0.0470, -0.0470,\n",
       "         1.3821, -0.7615, -0.7615,  1.3821,  0.6676, -0.7615, -0.7615, -0.0470,\n",
       "        -0.7615, -0.0470, -0.7615,  0.6676, -1.4760,  2.0967, -1.4760,  0.6676],\n",
       "       dtype=torch.float64)"
      ]
     },
     "execution_count": 95,
     "metadata": {},
     "output_type": "execute_result"
    }
   ],
   "source": [
    "y"
   ]
  },
  {
   "cell_type": "markdown",
   "id": "28ed0fd7-daa7-4cd3-9506-9971f11d420c",
   "metadata": {},
   "source": [
    "## Model"
   ]
  },
  {
   "cell_type": "code",
   "execution_count": 96,
   "id": "d31f9ba3-594a-40fd-88f8-6c010d75cf1d",
   "metadata": {},
   "outputs": [
    {
     "data": {
      "text/plain": [
       "tensor(0.5000)"
      ]
     },
     "execution_count": 96,
     "metadata": {},
     "output_type": "execute_result"
    }
   ],
   "source": [
    "y = torch.tensor([ 1.0, 2.0, 3.0, 4.0])\n",
    "yh = torch.tensor([1.0, 2.1, 4.0, 6.0])\n",
    "\n",
    "def bound_accuracy(y, yh, bound=0.5):\n",
    "    dif = (y - yh).abs()\n",
    "    acc = (dif <= bound).float().mean()\n",
    "    return acc\n",
    "\n",
    "bound_accuracy(y, yh, 0.5)"
   ]
  },
  {
   "cell_type": "code",
   "execution_count": 97,
   "id": "17aaddbd-eb9b-4cbc-a636-996e8a377c9e",
   "metadata": {},
   "outputs": [],
   "source": [
    "class LSTM(nn.Module):\n",
    "    \n",
    "    def __init__(self, emb, hidden_size):\n",
    "        super().__init__()\n",
    "        vocab_size, embed_size = emb.weight.shape\n",
    "        self.hidden_size = hidden_size\n",
    "        \n",
    "        self.emb = nn.Embedding.from_pretrained(emb.weight).double()\n",
    "        self.lstm = nn.LSTM(embed_size, hidden_size, batch_first=True, dtype=torch.float64)\n",
    "        self.linear = nn.Linear(hidden_size, 1, dtype=torch.float64)\n",
    "        \n",
    "    def forward(self, x):\n",
    "        B, _, = x.shape\n",
    "        emb = self.emb(x) # (B, L, emb)        \n",
    "        seq, (hidden, _) = self.lstm(emb) # (1, B, hidden)\n",
    "        hidden = hidden.view(B, self.hidden_size) # (B, hidden)\n",
    "        y = self.linear(hidden) # (B, 1)\n",
    "        y = y.view(B)  # (B)\n",
    "        y = y.double()\n",
    "        \n",
    "        return y"
   ]
  },
  {
   "cell_type": "code",
   "execution_count": 98,
   "id": "b0331e41-0727-40a5-8574-027d32bd4fad",
   "metadata": {},
   "outputs": [],
   "source": [
    "itr = iter(DataFrameIterator(splits[\"train\"], 32))\n",
    "model = LSTM(bert_embed, hidden_size=512)\n",
    "model = model.to(device)"
   ]
  },
  {
   "cell_type": "code",
   "execution_count": 99,
   "id": "9ff7c2a5-90eb-4724-ad1e-55ad2db10ff4",
   "metadata": {},
   "outputs": [
    {
     "data": {
      "text/plain": [
       "tensor([-0.0410, -0.0347, -0.0366, -0.0354, -0.0344, -0.0289, -0.0413, -0.0410,\n",
       "        -0.0295, -0.0358, -0.0335, -0.0424, -0.0391, -0.0348, -0.0351, -0.0396,\n",
       "        -0.0338, -0.0302, -0.0256, -0.0362, -0.0340, -0.0343, -0.0402, -0.0411,\n",
       "        -0.0288, -0.0379, -0.0410, -0.0399, -0.0321, -0.0406, -0.0410, -0.0295],\n",
       "       dtype=torch.float64, grad_fn=<ViewBackward0>)"
      ]
     },
     "execution_count": 99,
     "metadata": {},
     "output_type": "execute_result"
    }
   ],
   "source": [
    "x, y = next(itr)\n",
    "yh = model(x)\n",
    "yh"
   ]
  },
  {
   "cell_type": "code",
   "execution_count": 100,
   "id": "304ace53-c26c-47dc-b809-fa346c02af52",
   "metadata": {},
   "outputs": [],
   "source": [
    "@torch.no_grad()\n",
    "def eval_split(model, split, sample_size=None):\n",
    "    model.eval()\n",
    "    df = splits[split]\n",
    "    \n",
    "    if sample_size:\n",
    "        idx = torch.randint(0, len(df), size=(sample_size,))\n",
    "        df = df.iloc[idx]\n",
    "        \n",
    "    itr = DataFrameIterator(df, batch_size=32)\n",
    "    \n",
    "    yi = []\n",
    "    yhi = []\n",
    "    lossi = [] \n",
    "\n",
    "    for xb, yb in itr:\n",
    "        yh = model(xb)\n",
    "        loss = F.mse_loss(yb, yh, reduction=\"mean\")\n",
    "        lossi.append(loss.item())\n",
    "        yi += yb\n",
    "        yhi += yh\n",
    "\n",
    "    yi = torch.tensor(yi)\n",
    "    yhi = torch.tensor(yhi)    \n",
    "    loss = np.mean(lossi)\n",
    "    acc = bound_accuracy(yi, yhi, 0.5)\n",
    "    \n",
    "    model.train()\n",
    "    return np.mean(lossi), acc"
   ]
  },
  {
   "cell_type": "code",
   "execution_count": 58,
   "id": "62e5c015-de23-41f6-8aa6-96768e73d4a5",
   "metadata": {},
   "outputs": [],
   "source": [
    "gra_mean = train_df['grammar'].mean()\n",
    "\n",
    "def baseline_model(x):\n",
    "    B, L = x.shape\n",
    "    y = torch.tensor(gra_mean, device=device)\n",
    "    return y.repeat(B)\n",
    "\n",
    "baseline_model.eval = lambda :None\n",
    "baseline_model.train = lambda :None"
   ]
  },
  {
   "cell_type": "code",
   "execution_count": 76,
   "id": "76c52b97-105c-472c-b86c-3f9e873b9c60",
   "metadata": {},
   "outputs": [
    {
     "data": {
      "text/plain": [
       "(0.48893674697778766, tensor(0.4847))"
      ]
     },
     "execution_count": 76,
     "metadata": {},
     "output_type": "execute_result"
    }
   ],
   "source": [
    "eval_split(baseline_model, \"valid\")"
   ]
  },
  {
   "cell_type": "code",
   "execution_count": 102,
   "id": "20568921-2164-4160-95c3-095ca4b5a175",
   "metadata": {},
   "outputs": [
    {
     "data": {
      "text/plain": [
       "7371811"
      ]
     },
     "execution_count": 102,
     "metadata": {},
     "output_type": "execute_result"
    }
   ],
   "source": [
    "model = LSTM(bert_embed, hidden_size=1026)\n",
    "model = model.to(device)\n",
    "opti = optim.Adam(model.parameters())\n",
    "sum(p.numel() for p in model.parameters() if p.requires_grad)"
   ]
  },
  {
   "cell_type": "code",
   "execution_count": 103,
   "id": "5166c5de-6e96-427a-92ca-6518981a0926",
   "metadata": {},
   "outputs": [
    {
     "data": {
      "text/plain": [
       "(0.9959578353497202, tensor(0.2857))"
      ]
     },
     "execution_count": 103,
     "metadata": {},
     "output_type": "execute_result"
    }
   ],
   "source": [
    "eval_split(model, \"valid\")"
   ]
  },
  {
   "cell_type": "code",
   "execution_count": 60,
   "id": "c019c3b5-5f04-489f-adf0-97dcf93fbe53",
   "metadata": {},
   "outputs": [
    {
     "name": "stdout",
     "output_type": "stream",
     "text": [
      "tensor(9.0524, dtype=torch.float64, grad_fn=<MseLossBackward0>)\n"
     ]
    }
   ],
   "source": [
    "model.train()\n",
    "\n",
    "df = splits[\"train\"]\n",
    "itr = DataFrameIterator(df, batch_size=64)\n",
    "\n",
    "epoch = 10\n",
    "metric = []\n",
    "i = 0\n",
    "n = len(itr) * epoch\n",
    "\n",
    "for _ in range(epoch):\n",
    "    for _, (xb, yb) in enumerate(itr):\n",
    "        yh = model(xb)\n",
    "        loss = F.mse_loss(yb, yh, reduction=\"mean\")\n",
    "        opti.zero_grad()\n",
    "        loss.backward()\n",
    "        opti.step()\n",
    "        \n",
    "        print(loss)\n",
    "        break\n",
    "        \n",
    "        \n",
    "        if i % 10 == 0:\n",
    "            tr_loss = loss.item()\n",
    "            tr_acc = bound_accuracy(yb, yh, 0.5)\n",
    "            va_loss, va_acc = eval_split(model, \"valid\", 64)\n",
    "            metric.append([tr_loss, tr_acc.item(), va_loss.item(), va_acc.item()])\n",
    "            print(f\"[{i+1:2d}/{n}]: {tr_loss:.4f} {va_loss:.4f} {tr_acc:.4f}\")\n",
    "            \n",
    "        i += 1\n",
    "        \n",
    "    break"
   ]
  },
  {
   "cell_type": "code",
   "execution_count": 127,
   "id": "bd6a8ea9-c169-415d-99f7-24346e17a31d",
   "metadata": {},
   "outputs": [
    {
     "data": {
      "text/plain": [
       "[<matplotlib.lines.Line2D at 0x7fe65a52c6a0>]"
      ]
     },
     "execution_count": 127,
     "metadata": {},
     "output_type": "execute_result"
    },
    {
     "data": {
      "image/png": "[encoded data removed]",
      "text/plain": [
       "<Figure size 432x288 with 1 Axes>"
      ]
     },
     "metadata": {
      "needs_background": "light"
     },
     "output_type": "display_data"
    }
   ],
   "source": [
    "tr_loss = [tr for tr, _, _, _ in metric]\n",
    "va_loss = [va for _, _, va, _ in metric]\n",
    "\n",
    "plt.plot(tr_loss, \"b\")\n",
    "plt.plot(va_loss, \"r\")"
   ]
  },
  {
   "cell_type": "code",
   "execution_count": 121,
   "id": "9081a774-c656-4230-b0e7-49e68d2540a5",
   "metadata": {},
   "outputs": [
    {
     "data": {
      "text/plain": [
       "[<matplotlib.lines.Line2D at 0x7fe65ac30250>]"
      ]
     },
     "execution_count": 121,
     "metadata": {},
     "output_type": "execute_result"
    },
    {
     "data": {
      "image/png": "[encoded data removed]",
      "text/plain": [
       "<Figure size 432x288 with 1 Axes>"
      ]
     },
     "metadata": {
      "needs_background": "light"
     },
     "output_type": "display_data"
    }
   ],
   "source": [
    "tr_acc = [tr for _, tr, _, _ in metric]\n",
    "va_acc = [va for _, _, _, va in metric]\n",
    "\n",
    "plt.plot(tr_acc, \"b\")\n",
    "plt.plot(va_acc, \"r\")"
   ]
  },
  {
   "cell_type": "code",
   "execution_count": 122,
   "id": "3752727d-9ffb-44c9-9e6d-5f8d0948f521",
   "metadata": {},
   "outputs": [
    {
     "data": {
      "text/plain": [
       "(0.48436483937989927, tensor(0.4872))"
      ]
     },
     "execution_count": 122,
     "metadata": {},
     "output_type": "execute_result"
    }
   ],
   "source": [
    "eval_split(model, \"valid\")"
   ]
  },
  {
   "cell_type": "markdown",
   "id": "2a2b2d10-7c12-443c-aa50-25d68dc8cf55",
   "metadata": {},
   "source": [
    "## Transformer"
   ]
  },
  {
   "cell_type": "code",
   "execution_count": null,
   "id": "91e3135d-6d79-43dd-b6b8-02b0bd65dd93",
   "metadata": {},
   "outputs": [],
   "source": [
    "@dataclass\n",
    "class Config:\n",
    "    vocab_size: int\n",
    "    block_size: int\n",
    "    emb_size: int\n",
    "    head_num: int\n",
    "    head_size: int\n",
    "    layer_num: int\n",
    "    ctoi: dict\n",
    "    dropout: float\n",
    "\n",
    "\n",
    "class MultiHeadAttension(nn.Module):\n",
    "\n",
    "    def __init__(self, c: Config):\n",
    "        super().__init__()\n",
    "        assert c.emb_size / c.head_size == c.head_num\n",
    "\n",
    "        self.head_size = c.head_size\n",
    "        self.head_num = c.head_num\n",
    "        self.attn = nn.Linear(\n",
    "            c.emb_size, 3 * c.head_num * c.head_size, bias=False)\n",
    "        self.ffn = nn.Linear(c.head_num * c.head_size, c.emb_size, bias=False)\n",
    "\n",
    "        self.attn_dropout = nn.Dropout(c.dropout)\n",
    "        self.resid_dropout = nn.Dropout(c.dropout)\n",
    "\n",
    "    # x: (B, L, C)\n",
    "    # return: (B, L, C)\n",
    "    def forward(self, x):\n",
    "        B, L, C = x.shape\n",
    "\n",
    "        z = self.attn(x)  # (B, L, 3 * hn * hs)\n",
    "        k, q, v = torch.split(\n",
    "            z, self.head_num * self.head_size, dim=2)  # (B, L, hn * hs)\n",
    "\n",
    "        k = k.view(B, L, self.head_num, self.head_size).permute(\n",
    "            0, 2, 1, 3)  # (B, hn, L, hs)\n",
    "        q = q.view(B, L, self.head_num, self.head_size).permute(0, 2, 1, 3)\n",
    "        v = v.view(B, L, self.head_num, self.head_size).permute(0, 2, 1, 3)\n",
    "\n",
    "        q = q.permute(0, 1, 3, 2)  # (B, hn, hs, L)\n",
    "        attn = (k @ q) / self.head_size**0.5  # (B, hn, L, L)\n",
    "        mask = torch.tril(torch.ones(L, L)) == 0\n",
    "        mask = mask.to(x.device)\n",
    "        attn = attn.masked_fill(mask, -float('inf'))  # (B, hn, L, L)\n",
    "        attn = F.softmax(attn, dim=3)\n",
    "        attn = self.attn_dropout(attn)\n",
    "\n",
    "        y = attn @ v  # (B, hn, L, hs)\n",
    "        y = y.permute(0, 2, 1, 3)  # (B, L, hn, hs)\n",
    "        y = y.contiguous().view(B, L, -1)  # (B, L, hn * hs)\n",
    "        y = self.ffn(y)  # (B, L, C)\n",
    "        y = self.resid_dropout(y)\n",
    "\n",
    "        return y\n",
    "\n",
    "\n",
    "class FeedForward(nn.Module):\n",
    "\n",
    "    def __init__(self, c: Config):\n",
    "        super().__init__()\n",
    "        self.linear1 = nn.Linear(c.emb_size, 2 * c.emb_size)\n",
    "        self.linear2 = nn.Linear(2 * c.emb_size, c.emb_size)\n",
    "        self.dropout = nn.Dropout(c.dropout)\n",
    "\n",
    "    # (B, L, C)\n",
    "    def forward(self, x):\n",
    "        y = self.linear1(x)\n",
    "        y = torch.relu(y)\n",
    "        y = self.linear2(y)\n",
    "        y = self.dropout(y)\n",
    "\n",
    "        return y\n",
    "\n",
    "\n",
    "class Block(nn.Module):\n",
    "\n",
    "    def __init__(self, c: Config):\n",
    "        super().__init__()\n",
    "\n",
    "        assert c.emb_size % c.head_size == 0\n",
    "        assert c.emb_size / c.head_size == c.head_num\n",
    "\n",
    "        self.mha = MultiHeadAttension(c)\n",
    "        self.lnorm1 = nn.LayerNorm(c.emb_size)\n",
    "        self.lnorm2 = nn.LayerNorm(c.emb_size)\n",
    "        self.ffn = FeedForward(c)\n",
    "\n",
    "    # x: (B, L, emb)\n",
    "    def forward(self, x):\n",
    "        y = self.mha(x) + x\n",
    "        y = self.lnorm1(y)\n",
    "        y = self.ffn(y) + y\n",
    "        y = self.lnorm2(y)\n",
    "        return y\n",
    "\n",
    "\n",
    "class Transformer(nn.Module):\n",
    "\n",
    "    def __init__(self, c: Config, embed):\n",
    "        super().__init__()\n",
    "        self.config = c\n",
    "        self.embed = embed\n",
    "        self.dropout = nn.Dropout(c.dropout)\n",
    "        self.blocks = nn.Sequential(\n",
    "            *[Block(c) for _ in range(c.layer_num)]\n",
    "        )\n",
    "        self.proj = nn.Linear(c.emb_size, c.vocab_size)\n",
    "\n",
    "    # return (L, C)\n",
    "    def pos_encoding(self, x):\n",
    "        B, L, C = x.shape\n",
    "        pos = torch.arange(0, L).view(-1, 1)  # (L, 1)\n",
    "        div = 2 * torch.arange(0, C) / C  # (C)\n",
    "        div = torch.pow(10000, div)  # (C)\n",
    "        e = pos / div\n",
    "        pe = torch.zeros(L, C)\n",
    "        pe[:, 0::2] = torch.sin(e[:, 0::2])\n",
    "        pe[:, 1::2] = torch.cos(e[:, 1::2])\n",
    "\n",
    "        pe = pe.to(x.device)\n",
    "        return pe\n",
    "\n",
    "    # (B, L) -> (B, L, C)\n",
    "    def forward(self, x):        \n",
    "        y = self.embed(x)  # (B, L, emb)\n",
    "        y = y + self.pos_encoding(y)  # (B, L, emb)\n",
    "        y = self.dropout(y)\n",
    "        y = self.blocks(y)  # (B, L, emb)\n",
    "        y = self.proj(y)  # (B, L, vocab)\n",
    "\n",
    "        return y\n",
    "\n",
    "    @torch.no_grad()\n",
    "    def sample(self, max_len):\n",
    "        device = next(self.parameters()).device\n",
    "    \n",
    "        self.eval()\n",
    "        itoc = {i: c for c, i in self.config.ctoi.items()}\n",
    "        tks = [0] * self.config.block_size\n",
    "\n",
    "        for i in range(max_len):\n",
    "            ctx = torch.tensor(tks[i:i+self.config.block_size], device=device)  # (L)\n",
    "            ctx = ctx.view(1, -1)  # (B, L)\n",
    "\n",
    "            logits = self.forward(ctx)  # (B, L, C)\n",
    "            probs = F.softmax(logits, dim=2)  # (B, L, C)\n",
    "            # (C), # the last in the sequence is the newly generated\n",
    "            probs = probs[0, -1, :]\n",
    "            yi = torch.multinomial(probs, 1)\n",
    "            tks.append(yi.item())\n",
    "\n",
    "        tks = tks[self.config.block_size:]\n",
    "        chars = [itoc.get(t, \"_\") for t in tks]\n",
    "        self.train()\n",
    "        return \"\".join(chars)"
   ]
  },
  {
   "cell_type": "code",
   "execution_count": null,
   "id": "7cc8f64b-6041-4754-b62b-dc6e3e90bdc1",
   "metadata": {},
   "outputs": [],
   "source": [
    "bert_embed.weight.shape"
   ]
  },
  {
   "cell_type": "code",
   "execution_count": null,
   "id": "a81a8311-f2c5-4635-86f5-a6d53c3e652c",
   "metadata": {},
   "outputs": [],
   "source": [
    "vocab_size, emb_size = bert_embed.weight.shape\n",
    "config = Config(\n",
    "    vocab_size=vocab_size,\n",
    "    emb_size=emb_size,\n",
    "    block_size=256,\n",
    "    head_num=12,\n",
    "    head_size=64,\n",
    "    layer_num=2,\n",
    "    ctoi=tokenizer.vocab,\n",
    "    dropout=0\n",
    ")\n",
    "\n",
    "tf_model = Transformer(config, bert_embed)"
   ]
  },
  {
   "cell_type": "code",
   "execution_count": null,
   "id": "e4b52106-84f9-4fab-b405-c2fec1564a3f",
   "metadata": {},
   "outputs": [],
   "source": [
    "tf_model.sample(10)"
   ]
  },
  {
   "cell_type": "markdown",
   "id": "08e1082c-192c-46a5-8693-8d9ff972f496",
   "metadata": {},
   "source": [
    "# Log\n",
    "validation performan, (loss, 0.5 bounded accuracy)\n",
    "\n",
    "- Baseline: 0.4882, 0.4917\n",
    "- LSTM, before training: 9.9371, 0\n",
    "- LSTM, single data, 900 run: 0.5717, 0.4840\n"
   ]
  },
  {
   "cell_type": "code",
   "execution_count": null,
   "id": "52daef44-038d-415f-a795-b1937cbc9a28",
   "metadata": {},
   "outputs": [],
   "source": [
    "(0.8046356645914224, tensor(0.4056)"
   ]
  }
 ],
 "metadata": {
  "kernelspec": {
   "display_name": "Python 3 (ipykernel)",
   "language": "python",
   "name": "python3"
  },
  "language_info": {
   "codemirror_mode": {
    "name": "ipython",
    "version": 3
   },
   "file_extension": ".py",
   "mimetype": "text/x-python",
   "name": "python",
   "nbconvert_exporter": "python",
   "pygments_lexer": "ipython3",
   "version": "3.10.8"
  }
 },
 "nbformat": 4,
 "nbformat_minor": 5
}
