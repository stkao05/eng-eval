{
 "cells": [
  {
   "cell_type": "code",
   "execution_count": 22,
   "id": "0a655c3d-aa13-4e27-abbd-9eaed5aaf2b9",
   "metadata": {
    "tags": []
   },
   "outputs": [],
   "source": [
    "import torch\n",
    "import pandas as pd\n",
    "import matplotlib.pyplot as plt\n",
    "import torch.nn as nn\n",
    "import torch.nn.functional as F\n",
    "import torch.optim as optim\n",
    "import numpy as np\n",
    "from tqdm import tqdm\n",
    "from torch.utils.data import Dataset, DataLoader\n",
    "from sklearn.model_selection import train_test_split"
   ]
  },
  {
   "cell_type": "markdown",
   "id": "64ae2272-1a5f-429e-b85f-5179b288dd7a",
   "metadata": {},
   "source": [
    "## Data Exploration"
   ]
  },
  {
   "cell_type": "code",
   "execution_count": 2,
   "id": "f5d45c48-9e6b-42ee-9a37-5dfe0b1942ad",
   "metadata": {},
   "outputs": [
    {
     "data": {
      "text/html": [
       "<div>\n",
       "<style scoped>\n",
       "    .dataframe tbody tr th:only-of-type {\n",
       "        vertical-align: middle;\n",
       "    }\n",
       "\n",
       "    .dataframe tbody tr th {\n",
       "        vertical-align: top;\n",
       "    }\n",
       "\n",
       "    .dataframe thead th {\n",
       "        text-align: right;\n",
       "    }\n",
       "</style>\n",
       "<table border=\"1\" class=\"dataframe\">\n",
       "  <thead>\n",
       "    <tr style=\"text-align: right;\">\n",
       "      <th></th>\n",
       "      <th>text_id</th>\n",
       "      <th>full_text</th>\n",
       "      <th>cohesion</th>\n",
       "      <th>syntax</th>\n",
       "      <th>vocabulary</th>\n",
       "      <th>phraseology</th>\n",
       "      <th>grammar</th>\n",
       "      <th>conventions</th>\n",
       "    </tr>\n",
       "  </thead>\n",
       "  <tbody>\n",
       "    <tr>\n",
       "      <th>0</th>\n",
       "      <td>0016926B079C</td>\n",
       "      <td>I think that students would benefit from learn...</td>\n",
       "      <td>3.5</td>\n",
       "      <td>3.5</td>\n",
       "      <td>3.0</td>\n",
       "      <td>3.0</td>\n",
       "      <td>4.0</td>\n",
       "      <td>3.0</td>\n",
       "    </tr>\n",
       "    <tr>\n",
       "      <th>1</th>\n",
       "      <td>0022683E9EA5</td>\n",
       "      <td>When a problem is a change you have to let it ...</td>\n",
       "      <td>2.5</td>\n",
       "      <td>2.5</td>\n",
       "      <td>3.0</td>\n",
       "      <td>2.0</td>\n",
       "      <td>2.0</td>\n",
       "      <td>2.5</td>\n",
       "    </tr>\n",
       "    <tr>\n",
       "      <th>2</th>\n",
       "      <td>00299B378633</td>\n",
       "      <td>Dear, Principal\\n\\nIf u change the school poli...</td>\n",
       "      <td>3.0</td>\n",
       "      <td>3.5</td>\n",
       "      <td>3.0</td>\n",
       "      <td>3.0</td>\n",
       "      <td>3.0</td>\n",
       "      <td>2.5</td>\n",
       "    </tr>\n",
       "    <tr>\n",
       "      <th>3</th>\n",
       "      <td>003885A45F42</td>\n",
       "      <td>The best time in life is when you become yours...</td>\n",
       "      <td>4.5</td>\n",
       "      <td>4.5</td>\n",
       "      <td>4.5</td>\n",
       "      <td>4.5</td>\n",
       "      <td>4.0</td>\n",
       "      <td>5.0</td>\n",
       "    </tr>\n",
       "    <tr>\n",
       "      <th>4</th>\n",
       "      <td>0049B1DF5CCC</td>\n",
       "      <td>Small act of kindness can impact in other peop...</td>\n",
       "      <td>2.5</td>\n",
       "      <td>3.0</td>\n",
       "      <td>3.0</td>\n",
       "      <td>3.0</td>\n",
       "      <td>2.5</td>\n",
       "      <td>2.5</td>\n",
       "    </tr>\n",
       "    <tr>\n",
       "      <th>5</th>\n",
       "      <td>004AC288D833</td>\n",
       "      <td>Dear Principal,\\r\\n\\r\\nOur school should have ...</td>\n",
       "      <td>3.5</td>\n",
       "      <td>4.0</td>\n",
       "      <td>4.0</td>\n",
       "      <td>3.5</td>\n",
       "      <td>3.5</td>\n",
       "      <td>4.0</td>\n",
       "    </tr>\n",
       "    <tr>\n",
       "      <th>6</th>\n",
       "      <td>005661280443</td>\n",
       "      <td>Imagine if you could prove other people that y...</td>\n",
       "      <td>3.5</td>\n",
       "      <td>4.0</td>\n",
       "      <td>3.5</td>\n",
       "      <td>3.5</td>\n",
       "      <td>4.0</td>\n",
       "      <td>4.0</td>\n",
       "    </tr>\n",
       "    <tr>\n",
       "      <th>7</th>\n",
       "      <td>008DDDDD8E8D</td>\n",
       "      <td>I think it's a good idea for the estudnets to ...</td>\n",
       "      <td>2.5</td>\n",
       "      <td>2.5</td>\n",
       "      <td>2.5</td>\n",
       "      <td>2.5</td>\n",
       "      <td>2.5</td>\n",
       "      <td>2.0</td>\n",
       "    </tr>\n",
       "    <tr>\n",
       "      <th>8</th>\n",
       "      <td>009BCCC61C2A</td>\n",
       "      <td>positive attitude is the key to success. I agr...</td>\n",
       "      <td>3.0</td>\n",
       "      <td>3.0</td>\n",
       "      <td>3.5</td>\n",
       "      <td>3.5</td>\n",
       "      <td>3.0</td>\n",
       "      <td>3.0</td>\n",
       "    </tr>\n",
       "    <tr>\n",
       "      <th>9</th>\n",
       "      <td>009F4E9310CB</td>\n",
       "      <td>Asking more than one person for and advice hel...</td>\n",
       "      <td>3.0</td>\n",
       "      <td>3.0</td>\n",
       "      <td>3.5</td>\n",
       "      <td>2.5</td>\n",
       "      <td>3.0</td>\n",
       "      <td>2.5</td>\n",
       "    </tr>\n",
       "  </tbody>\n",
       "</table>\n",
       "</div>"
      ],
      "text/plain": [
       "        text_id                                          full_text  cohesion  \\\n",
       "0  0016926B079C  I think that students would benefit from learn...       3.5   \n",
       "1  0022683E9EA5  When a problem is a change you have to let it ...       2.5   \n",
       "2  00299B378633  Dear, Principal\\n\\nIf u change the school poli...       3.0   \n",
       "3  003885A45F42  The best time in life is when you become yours...       4.5   \n",
       "4  0049B1DF5CCC  Small act of kindness can impact in other peop...       2.5   \n",
       "5  004AC288D833  Dear Principal,\\r\\n\\r\\nOur school should have ...       3.5   \n",
       "6  005661280443  Imagine if you could prove other people that y...       3.5   \n",
       "7  008DDDDD8E8D  I think it's a good idea for the estudnets to ...       2.5   \n",
       "8  009BCCC61C2A  positive attitude is the key to success. I agr...       3.0   \n",
       "9  009F4E9310CB  Asking more than one person for and advice hel...       3.0   \n",
       "\n",
       "   syntax  vocabulary  phraseology  grammar  conventions  \n",
       "0     3.5         3.0          3.0      4.0          3.0  \n",
       "1     2.5         3.0          2.0      2.0          2.5  \n",
       "2     3.5         3.0          3.0      3.0          2.5  \n",
       "3     4.5         4.5          4.5      4.0          5.0  \n",
       "4     3.0         3.0          3.0      2.5          2.5  \n",
       "5     4.0         4.0          3.5      3.5          4.0  \n",
       "6     4.0         3.5          3.5      4.0          4.0  \n",
       "7     2.5         2.5          2.5      2.5          2.0  \n",
       "8     3.0         3.5          3.5      3.0          3.0  \n",
       "9     3.0         3.5          2.5      3.0          2.5  "
      ]
     },
     "execution_count": 2,
     "metadata": {},
     "output_type": "execute_result"
    }
   ],
   "source": [
    "train_df = pd.read_csv(\"train.csv\")\n",
    "train_df.head(10)"
   ]
  },
  {
   "cell_type": "code",
   "execution_count": 3,
   "id": "0da6c28d-814e-4d42-b3a4-2ffed6211bed",
   "metadata": {},
   "outputs": [
    {
     "data": {
      "text/plain": [
       "3911"
      ]
     },
     "execution_count": 3,
     "metadata": {},
     "output_type": "execute_result"
    }
   ],
   "source": [
    "len(train_df)"
   ]
  },
  {
   "cell_type": "code",
   "execution_count": 5,
   "id": "ab2948eb-3446-4511-bd89-9c601c52911e",
   "metadata": {},
   "outputs": [
    {
     "name": "stdout",
     "output_type": "stream",
     "text": [
      "I think that students would benefit from learning at home,because they wont have to change and get up early in the morning to shower and do there hair. taking only classes helps them because at there house they'll be pay more attention. they will be comfortable at home.\n",
      "\n",
      "The hardest part of school is getting ready. you wake up go brush your teeth and go to your closet and look at your cloths. after you think you picked a outfit u go look in the mirror and youll either not like it or you look and see a stain. Then you'll have to change. with the online classes you can wear anything and stay home and you wont need to stress about what to wear.\n",
      "\n",
      "most students usually take showers before school. they either take it before they sleep or when they wake up. some students do both to smell good. that causes them do miss the bus and effects on there lesson time cause they come late to school. when u have online classes u wont need to miss lessons cause you can get everything set up and go take a shower and when u get out your ready to go.\n",
      "\n",
      "when your home your comfortable and you pay attention. it gives then an advantage to be smarter and even pass there classmates on class work. public schools are difficult even if you try. some teacher dont know how to teach it in then way that students understand it. that causes students to fail and they may repeat the class.              \n"
     ]
    }
   ],
   "source": [
    "print(train_df.full_text[0])"
   ]
  },
  {
   "cell_type": "code",
   "execution_count": 6,
   "id": "efccdbab-b21b-4978-9e8f-6338410608d6",
   "metadata": {},
   "outputs": [
    {
     "data": {
      "image/png": "[encoded data removed]",
      "text/plain": [
       "<Figure size 1000x1000 with 6 Axes>"
      ]
     },
     "metadata": {},
     "output_type": "display_data"
    }
   ],
   "source": [
    "def visualize_dist(df):\n",
    "    fig, axs = plt.subplots(3, 2)\n",
    "    fig.set_size_inches(10, 10)\n",
    "    bins = torch.arange(1, 6, 0.5)\n",
    "\n",
    "    axs[0, 0].hist(df.cohesion.values, bins=bins);\n",
    "    axs[0, 0].set_title('cohesion')\n",
    "    axs[0, 1].hist(df.syntax.values, bins=bins);\n",
    "    axs[0, 1].set_title('syntax')\n",
    "    axs[1, 0].hist(df.vocabulary.values, bins=bins);\n",
    "    axs[1, 0].set_title('vocabulary')\n",
    "    axs[1, 1].hist(df.phraseology, bins=bins);\n",
    "    axs[1, 1].set_title('phraseology')\n",
    "    axs[2, 0].hist(df.grammar, bins=bins);\n",
    "    axs[2, 0].set_title('grammar')\n",
    "    axs[2, 1].hist(df.conventions, bins=bins);\n",
    "    axs[2, 1].set_title('conventions')\n",
    "    \n",
    "    \n",
    "visualize_dist(train_df)"
   ]
  },
  {
   "cell_type": "code",
   "execution_count": 7,
   "id": "9e8f32af-fad8-4a9c-97bc-99d93c6e717e",
   "metadata": {},
   "outputs": [
    {
     "data": {
      "text/html": [
       "<div>\n",
       "<style scoped>\n",
       "    .dataframe tbody tr th:only-of-type {\n",
       "        vertical-align: middle;\n",
       "    }\n",
       "\n",
       "    .dataframe tbody tr th {\n",
       "        vertical-align: top;\n",
       "    }\n",
       "\n",
       "    .dataframe thead th {\n",
       "        text-align: right;\n",
       "    }\n",
       "</style>\n",
       "<table border=\"1\" class=\"dataframe\">\n",
       "  <thead>\n",
       "    <tr style=\"text-align: right;\">\n",
       "      <th></th>\n",
       "      <th>text_id</th>\n",
       "      <th>full_text</th>\n",
       "      <th>cohesion</th>\n",
       "      <th>syntax</th>\n",
       "      <th>vocabulary</th>\n",
       "      <th>phraseology</th>\n",
       "      <th>grammar</th>\n",
       "      <th>conventions</th>\n",
       "    </tr>\n",
       "  </thead>\n",
       "  <tbody>\n",
       "    <tr>\n",
       "      <th>514</th>\n",
       "      <td>2716F5E20A4F</td>\n",
       "      <td>The students be required to take music ,drama ...</td>\n",
       "      <td>1.5</td>\n",
       "      <td>1.0</td>\n",
       "      <td>1.5</td>\n",
       "      <td>1.0</td>\n",
       "      <td>1.0</td>\n",
       "      <td>1.5</td>\n",
       "    </tr>\n",
       "    <tr>\n",
       "      <th>952</th>\n",
       "      <td>48EA282A4EAF</td>\n",
       "      <td>some student offer distance learning as an opt...</td>\n",
       "      <td>1.0</td>\n",
       "      <td>1.0</td>\n",
       "      <td>1.0</td>\n",
       "      <td>1.0</td>\n",
       "      <td>1.0</td>\n",
       "      <td>1.0</td>\n",
       "    </tr>\n",
       "    <tr>\n",
       "      <th>1528</th>\n",
       "      <td>75A20F93C2C4</td>\n",
       "      <td>i like to work with a group a cash if you work...</td>\n",
       "      <td>1.5</td>\n",
       "      <td>1.5</td>\n",
       "      <td>1.5</td>\n",
       "      <td>1.0</td>\n",
       "      <td>1.0</td>\n",
       "      <td>1.0</td>\n",
       "    </tr>\n",
       "    <tr>\n",
       "      <th>1540</th>\n",
       "      <td>767533E12569</td>\n",
       "      <td>he is a good because they are the prescient an...</td>\n",
       "      <td>1.0</td>\n",
       "      <td>1.0</td>\n",
       "      <td>1.0</td>\n",
       "      <td>1.0</td>\n",
       "      <td>1.0</td>\n",
       "      <td>1.0</td>\n",
       "    </tr>\n",
       "    <tr>\n",
       "      <th>1554</th>\n",
       "      <td>776FBF88E6FF</td>\n",
       "      <td>Welll its going to be ah good beefit but in th...</td>\n",
       "      <td>1.5</td>\n",
       "      <td>1.5</td>\n",
       "      <td>2.0</td>\n",
       "      <td>2.0</td>\n",
       "      <td>1.0</td>\n",
       "      <td>1.0</td>\n",
       "    </tr>\n",
       "  </tbody>\n",
       "</table>\n",
       "</div>"
      ],
      "text/plain": [
       "           text_id                                          full_text  \\\n",
       "514   2716F5E20A4F  The students be required to take music ,drama ...   \n",
       "952   48EA282A4EAF  some student offer distance learning as an opt...   \n",
       "1528  75A20F93C2C4  i like to work with a group a cash if you work...   \n",
       "1540  767533E12569  he is a good because they are the prescient an...   \n",
       "1554  776FBF88E6FF  Welll its going to be ah good beefit but in th...   \n",
       "\n",
       "      cohesion  syntax  vocabulary  phraseology  grammar  conventions  \n",
       "514        1.5     1.0         1.5          1.0      1.0          1.5  \n",
       "952        1.0     1.0         1.0          1.0      1.0          1.0  \n",
       "1528       1.5     1.5         1.5          1.0      1.0          1.0  \n",
       "1540       1.0     1.0         1.0          1.0      1.0          1.0  \n",
       "1554       1.5     1.5         2.0          2.0      1.0          1.0  "
      ]
     },
     "execution_count": 7,
     "metadata": {},
     "output_type": "execute_result"
    }
   ],
   "source": [
    "train_df.loc[train_df['grammar'] == 1].head(5)"
   ]
  },
  {
   "cell_type": "code",
   "execution_count": 8,
   "id": "862710a6-99b9-4b9c-b93f-ba76b3033353",
   "metadata": {},
   "outputs": [
    {
     "name": "stdout",
     "output_type": "stream",
     "text": [
      "The students be required to take music ,drama ,or an art class. is important all the student to this to class because is a element important for all students., also is part the education and many people, I like for the music and art. other like drama . The people dont not like, but is necessary to take this class because is big formation very important and can't be graduated learning somethings .\n",
      "\n",
      "The class the music to help a relax , and class the drama is a part of fundamental , the class of art is more creatividad leaning some different thing ,.\n",
      "\n",
      "The art is very good class because used to creatividad and used to things and of head practice the things.\n",
      "\n",
      "music the arrangement of sounds made by music instruments or voice, the class the drama is example when exposed a history\n",
      "\n",
      "I make the paper for author is draticamatica and when leaning a book after has why explicalor about the history of book.\n",
      "\n",
      "all the class is very important because learning many things .\n",
      "\n",
      "drama and art of the same class because used many creatividad both class and thing more the normal but to help for to connocimient about this class .,                                                                                                                                                                                                                                                                                                                                                                                                                                                                                                                                                                                                                                                                                                                                                                                                                                                                                                                                                                                                                                                                                                                                                                                                                                                                                                                                                                                                                                                                                                                                                                                                                                                                                                                                                                                                                                                                                                                                                                                                                                                                                                                                                                                                                                                                                                                                                                                                                                                                                                                                                                                                                                                                                                                                                                                                                                                                                                                                                                                                            \n"
     ]
    }
   ],
   "source": [
    "print(train_df.full_text[514])"
   ]
  },
  {
   "cell_type": "code",
   "execution_count": 9,
   "id": "2132b3f2-8756-478b-8dbb-85a3cc51b375",
   "metadata": {},
   "outputs": [
    {
     "data": {
      "text/html": [
       "<div>\n",
       "<style scoped>\n",
       "    .dataframe tbody tr th:only-of-type {\n",
       "        vertical-align: middle;\n",
       "    }\n",
       "\n",
       "    .dataframe tbody tr th {\n",
       "        vertical-align: top;\n",
       "    }\n",
       "\n",
       "    .dataframe thead th {\n",
       "        text-align: right;\n",
       "    }\n",
       "</style>\n",
       "<table border=\"1\" class=\"dataframe\">\n",
       "  <thead>\n",
       "    <tr style=\"text-align: right;\">\n",
       "      <th></th>\n",
       "      <th>text_id</th>\n",
       "      <th>full_text</th>\n",
       "      <th>cohesion</th>\n",
       "      <th>syntax</th>\n",
       "      <th>vocabulary</th>\n",
       "      <th>phraseology</th>\n",
       "      <th>grammar</th>\n",
       "      <th>conventions</th>\n",
       "    </tr>\n",
       "  </thead>\n",
       "  <tbody>\n",
       "    <tr>\n",
       "      <th>104</th>\n",
       "      <td>07CE77EA56C5</td>\n",
       "      <td>Students work hard there is no arguing that. T...</td>\n",
       "      <td>5.0</td>\n",
       "      <td>5.0</td>\n",
       "      <td>5.0</td>\n",
       "      <td>5.0</td>\n",
       "      <td>4.5</td>\n",
       "      <td>4.5</td>\n",
       "    </tr>\n",
       "    <tr>\n",
       "      <th>258</th>\n",
       "      <td>12E3D52345C6</td>\n",
       "      <td>Technology has always acted as a compelling an...</td>\n",
       "      <td>5.0</td>\n",
       "      <td>5.0</td>\n",
       "      <td>5.0</td>\n",
       "      <td>5.0</td>\n",
       "      <td>4.5</td>\n",
       "      <td>5.0</td>\n",
       "    </tr>\n",
       "    <tr>\n",
       "      <th>478</th>\n",
       "      <td>244973AE9715</td>\n",
       "      <td>Many people are kind and do parts in helping o...</td>\n",
       "      <td>5.0</td>\n",
       "      <td>4.5</td>\n",
       "      <td>5.0</td>\n",
       "      <td>4.5</td>\n",
       "      <td>5.0</td>\n",
       "      <td>4.0</td>\n",
       "    </tr>\n",
       "    <tr>\n",
       "      <th>668</th>\n",
       "      <td>33DEFCDAD05F</td>\n",
       "      <td>Technology has made a positive impact in our l...</td>\n",
       "      <td>5.0</td>\n",
       "      <td>4.0</td>\n",
       "      <td>4.0</td>\n",
       "      <td>4.5</td>\n",
       "      <td>4.0</td>\n",
       "      <td>4.0</td>\n",
       "    </tr>\n",
       "    <tr>\n",
       "      <th>675</th>\n",
       "      <td>3438C0C5ACEA</td>\n",
       "      <td>I oppose to extending the school day to one an...</td>\n",
       "      <td>5.0</td>\n",
       "      <td>4.0</td>\n",
       "      <td>4.0</td>\n",
       "      <td>4.5</td>\n",
       "      <td>5.0</td>\n",
       "      <td>4.5</td>\n",
       "    </tr>\n",
       "  </tbody>\n",
       "</table>\n",
       "</div>"
      ],
      "text/plain": [
       "          text_id                                          full_text  \\\n",
       "104  07CE77EA56C5  Students work hard there is no arguing that. T...   \n",
       "258  12E3D52345C6  Technology has always acted as a compelling an...   \n",
       "478  244973AE9715  Many people are kind and do parts in helping o...   \n",
       "668  33DEFCDAD05F  Technology has made a positive impact in our l...   \n",
       "675  3438C0C5ACEA  I oppose to extending the school day to one an...   \n",
       "\n",
       "     cohesion  syntax  vocabulary  phraseology  grammar  conventions  \n",
       "104       5.0     5.0         5.0          5.0      4.5          4.5  \n",
       "258       5.0     5.0         5.0          5.0      4.5          5.0  \n",
       "478       5.0     4.5         5.0          4.5      5.0          4.0  \n",
       "668       5.0     4.0         4.0          4.5      4.0          4.0  \n",
       "675       5.0     4.0         4.0          4.5      5.0          4.5  "
      ]
     },
     "execution_count": 9,
     "metadata": {},
     "output_type": "execute_result"
    }
   ],
   "source": [
    "train_df.loc[train_df['cohesion'] == 5].head(5)"
   ]
  },
  {
   "cell_type": "code",
   "execution_count": 10,
   "id": "20db0d40-853c-46c0-a1e4-74c851399efd",
   "metadata": {},
   "outputs": [
    {
     "data": {
      "text/html": [
       "<div>\n",
       "<style scoped>\n",
       "    .dataframe tbody tr th:only-of-type {\n",
       "        vertical-align: middle;\n",
       "    }\n",
       "\n",
       "    .dataframe tbody tr th {\n",
       "        vertical-align: top;\n",
       "    }\n",
       "\n",
       "    .dataframe thead th {\n",
       "        text-align: right;\n",
       "    }\n",
       "</style>\n",
       "<table border=\"1\" class=\"dataframe\">\n",
       "  <thead>\n",
       "    <tr style=\"text-align: right;\">\n",
       "      <th></th>\n",
       "      <th>cohesion</th>\n",
       "      <th>syntax</th>\n",
       "      <th>vocabulary</th>\n",
       "      <th>phraseology</th>\n",
       "      <th>grammar</th>\n",
       "      <th>conventions</th>\n",
       "    </tr>\n",
       "  </thead>\n",
       "  <tbody>\n",
       "    <tr>\n",
       "      <th>cohesion</th>\n",
       "      <td>1.000000</td>\n",
       "      <td>0.695459</td>\n",
       "      <td>0.666151</td>\n",
       "      <td>0.690058</td>\n",
       "      <td>0.638689</td>\n",
       "      <td>0.666151</td>\n",
       "    </tr>\n",
       "    <tr>\n",
       "      <th>syntax</th>\n",
       "      <td>0.695459</td>\n",
       "      <td>1.000000</td>\n",
       "      <td>0.680562</td>\n",
       "      <td>0.725467</td>\n",
       "      <td>0.709525</td>\n",
       "      <td>0.700025</td>\n",
       "    </tr>\n",
       "    <tr>\n",
       "      <th>vocabulary</th>\n",
       "      <td>0.666151</td>\n",
       "      <td>0.680562</td>\n",
       "      <td>1.000000</td>\n",
       "      <td>0.735261</td>\n",
       "      <td>0.654852</td>\n",
       "      <td>0.664292</td>\n",
       "    </tr>\n",
       "    <tr>\n",
       "      <th>phraseology</th>\n",
       "      <td>0.690058</td>\n",
       "      <td>0.725467</td>\n",
       "      <td>0.735261</td>\n",
       "      <td>1.000000</td>\n",
       "      <td>0.719746</td>\n",
       "      <td>0.666842</td>\n",
       "    </tr>\n",
       "    <tr>\n",
       "      <th>grammar</th>\n",
       "      <td>0.638689</td>\n",
       "      <td>0.709525</td>\n",
       "      <td>0.654852</td>\n",
       "      <td>0.719746</td>\n",
       "      <td>1.000000</td>\n",
       "      <td>0.673301</td>\n",
       "    </tr>\n",
       "    <tr>\n",
       "      <th>conventions</th>\n",
       "      <td>0.666151</td>\n",
       "      <td>0.700025</td>\n",
       "      <td>0.664292</td>\n",
       "      <td>0.666842</td>\n",
       "      <td>0.673301</td>\n",
       "      <td>1.000000</td>\n",
       "    </tr>\n",
       "  </tbody>\n",
       "</table>\n",
       "</div>"
      ],
      "text/plain": [
       "             cohesion    syntax  vocabulary  phraseology   grammar  \\\n",
       "cohesion     1.000000  0.695459    0.666151     0.690058  0.638689   \n",
       "syntax       0.695459  1.000000    0.680562     0.725467  0.709525   \n",
       "vocabulary   0.666151  0.680562    1.000000     0.735261  0.654852   \n",
       "phraseology  0.690058  0.725467    0.735261     1.000000  0.719746   \n",
       "grammar      0.638689  0.709525    0.654852     0.719746  1.000000   \n",
       "conventions  0.666151  0.700025    0.664292     0.666842  0.673301   \n",
       "\n",
       "             conventions  \n",
       "cohesion        0.666151  \n",
       "syntax          0.700025  \n",
       "vocabulary      0.664292  \n",
       "phraseology     0.666842  \n",
       "grammar         0.673301  \n",
       "conventions     1.000000  "
      ]
     },
     "execution_count": 10,
     "metadata": {},
     "output_type": "execute_result"
    }
   ],
   "source": [
    "train_df.corr(numeric_only=True)"
   ]
  },
  {
   "cell_type": "code",
   "execution_count": 12,
   "id": "f10ff0f7-62f9-4182-8e56-b716367f021d",
   "metadata": {},
   "outputs": [],
   "source": [
    "train_df['tokens'] = train_df.apply(lambda x: tokenizer.tokenize(x['full_text']), axis=1)\n",
    "train_df[\"tokens_len\"] = train_df.apply(lambda x: len(x[\"tokens\"]), axis=1)"
   ]
  },
  {
   "cell_type": "code",
   "execution_count": 13,
   "id": "f53edefa-f3f8-447f-a9f8-f314b7fdd6d5",
   "metadata": {},
   "outputs": [
    {
     "data": {
      "text/plain": [
       "(1433, 14)"
      ]
     },
     "execution_count": 13,
     "metadata": {},
     "output_type": "execute_result"
    }
   ],
   "source": [
    "train_df[\"tokens_len\"].max(), train_df[\"tokens_len\"].min()"
   ]
  },
  {
   "cell_type": "code",
   "execution_count": 14,
   "id": "1cbb9c56-14b9-474b-9843-d8e61c938576",
   "metadata": {},
   "outputs": [
    {
     "data": {
      "text/html": [
       "<div>\n",
       "<style scoped>\n",
       "    .dataframe tbody tr th:only-of-type {\n",
       "        vertical-align: middle;\n",
       "    }\n",
       "\n",
       "    .dataframe tbody tr th {\n",
       "        vertical-align: top;\n",
       "    }\n",
       "\n",
       "    .dataframe thead th {\n",
       "        text-align: right;\n",
       "    }\n",
       "</style>\n",
       "<table border=\"1\" class=\"dataframe\">\n",
       "  <thead>\n",
       "    <tr style=\"text-align: right;\">\n",
       "      <th></th>\n",
       "      <th>text_id</th>\n",
       "      <th>full_text</th>\n",
       "      <th>cohesion</th>\n",
       "      <th>syntax</th>\n",
       "      <th>vocabulary</th>\n",
       "      <th>phraseology</th>\n",
       "      <th>grammar</th>\n",
       "      <th>conventions</th>\n",
       "      <th>tokens</th>\n",
       "      <th>tokens_len</th>\n",
       "    </tr>\n",
       "  </thead>\n",
       "  <tbody>\n",
       "    <tr>\n",
       "      <th>3679</th>\n",
       "      <td>F69C85F4C3CA</td>\n",
       "      <td>the memorable teacher ever had\\r\\n\\r\\nwas a te...</td>\n",
       "      <td>1.0</td>\n",
       "      <td>1.0</td>\n",
       "      <td>1.5</td>\n",
       "      <td>1.0</td>\n",
       "      <td>1.0</td>\n",
       "      <td>1.5</td>\n",
       "      <td>[the, memorable, teacher, ever, had, was, a, t...</td>\n",
       "      <td>14</td>\n",
       "    </tr>\n",
       "  </tbody>\n",
       "</table>\n",
       "</div>"
      ],
      "text/plain": [
       "           text_id                                          full_text  \\\n",
       "3679  F69C85F4C3CA  the memorable teacher ever had\\r\\n\\r\\nwas a te...   \n",
       "\n",
       "      cohesion  syntax  vocabulary  phraseology  grammar  conventions  \\\n",
       "3679       1.0     1.0         1.5          1.0      1.0          1.5   \n",
       "\n",
       "                                                 tokens  tokens_len  \n",
       "3679  [the, memorable, teacher, ever, had, was, a, t...          14  "
      ]
     },
     "execution_count": 14,
     "metadata": {},
     "output_type": "execute_result"
    }
   ],
   "source": [
    "train_df.loc[train_df['tokens_len'] == 14]"
   ]
  },
  {
   "cell_type": "code",
   "execution_count": 15,
   "id": "3f600f10-f60d-4f6c-bbe0-25300f36c21b",
   "metadata": {},
   "outputs": [
    {
     "name": "stdout",
     "output_type": "stream",
     "text": [
      "the memorable teacher ever had\n",
      "\n",
      "was a teacher in 10\n",
      "\n",
      "word\n",
      "\n",
      "wild all students\n"
     ]
    }
   ],
   "source": [
    "print(train_df.iloc[3679][\"full_text\"])"
   ]
  },
  {
   "cell_type": "code",
   "execution_count": 57,
   "id": "642fa83e-f0d3-4f9c-bc07-f236b57b210d",
   "metadata": {},
   "outputs": [
    {
     "data": {
      "text/html": [
       "<div>\n",
       "<style scoped>\n",
       "    .dataframe tbody tr th:only-of-type {\n",
       "        vertical-align: middle;\n",
       "    }\n",
       "\n",
       "    .dataframe tbody tr th {\n",
       "        vertical-align: top;\n",
       "    }\n",
       "\n",
       "    .dataframe thead th {\n",
       "        text-align: right;\n",
       "    }\n",
       "</style>\n",
       "<table border=\"1\" class=\"dataframe\">\n",
       "  <thead>\n",
       "    <tr style=\"text-align: right;\">\n",
       "      <th></th>\n",
       "      <th>cohesion</th>\n",
       "      <th>syntax</th>\n",
       "      <th>vocabulary</th>\n",
       "      <th>phraseology</th>\n",
       "      <th>grammar</th>\n",
       "      <th>conventions</th>\n",
       "      <th>tokens_len</th>\n",
       "    </tr>\n",
       "  </thead>\n",
       "  <tbody>\n",
       "    <tr>\n",
       "      <th>cohesion</th>\n",
       "      <td>1.000000</td>\n",
       "      <td>0.695459</td>\n",
       "      <td>0.666151</td>\n",
       "      <td>0.690058</td>\n",
       "      <td>0.638689</td>\n",
       "      <td>0.666151</td>\n",
       "      <td>0.218760</td>\n",
       "    </tr>\n",
       "    <tr>\n",
       "      <th>syntax</th>\n",
       "      <td>0.695459</td>\n",
       "      <td>1.000000</td>\n",
       "      <td>0.680562</td>\n",
       "      <td>0.725467</td>\n",
       "      <td>0.709525</td>\n",
       "      <td>0.700025</td>\n",
       "      <td>0.187874</td>\n",
       "    </tr>\n",
       "    <tr>\n",
       "      <th>vocabulary</th>\n",
       "      <td>0.666151</td>\n",
       "      <td>0.680562</td>\n",
       "      <td>1.000000</td>\n",
       "      <td>0.735261</td>\n",
       "      <td>0.654852</td>\n",
       "      <td>0.664292</td>\n",
       "      <td>0.268821</td>\n",
       "    </tr>\n",
       "    <tr>\n",
       "      <th>phraseology</th>\n",
       "      <td>0.690058</td>\n",
       "      <td>0.725467</td>\n",
       "      <td>0.735261</td>\n",
       "      <td>1.000000</td>\n",
       "      <td>0.719746</td>\n",
       "      <td>0.666842</td>\n",
       "      <td>0.210046</td>\n",
       "    </tr>\n",
       "    <tr>\n",
       "      <th>grammar</th>\n",
       "      <td>0.638689</td>\n",
       "      <td>0.709525</td>\n",
       "      <td>0.654852</td>\n",
       "      <td>0.719746</td>\n",
       "      <td>1.000000</td>\n",
       "      <td>0.673301</td>\n",
       "      <td>0.076464</td>\n",
       "    </tr>\n",
       "    <tr>\n",
       "      <th>conventions</th>\n",
       "      <td>0.666151</td>\n",
       "      <td>0.700025</td>\n",
       "      <td>0.664292</td>\n",
       "      <td>0.666842</td>\n",
       "      <td>0.673301</td>\n",
       "      <td>1.000000</td>\n",
       "      <td>0.133562</td>\n",
       "    </tr>\n",
       "    <tr>\n",
       "      <th>tokens_len</th>\n",
       "      <td>0.218760</td>\n",
       "      <td>0.187874</td>\n",
       "      <td>0.268821</td>\n",
       "      <td>0.210046</td>\n",
       "      <td>0.076464</td>\n",
       "      <td>0.133562</td>\n",
       "      <td>1.000000</td>\n",
       "    </tr>\n",
       "  </tbody>\n",
       "</table>\n",
       "</div>"
      ],
      "text/plain": [
       "             cohesion    syntax  vocabulary  phraseology   grammar  \\\n",
       "cohesion     1.000000  0.695459    0.666151     0.690058  0.638689   \n",
       "syntax       0.695459  1.000000    0.680562     0.725467  0.709525   \n",
       "vocabulary   0.666151  0.680562    1.000000     0.735261  0.654852   \n",
       "phraseology  0.690058  0.725467    0.735261     1.000000  0.719746   \n",
       "grammar      0.638689  0.709525    0.654852     0.719746  1.000000   \n",
       "conventions  0.666151  0.700025    0.664292     0.666842  0.673301   \n",
       "tokens_len   0.218760  0.187874    0.268821     0.210046  0.076464   \n",
       "\n",
       "             conventions  tokens_len  \n",
       "cohesion        0.666151    0.218760  \n",
       "syntax          0.700025    0.187874  \n",
       "vocabulary      0.664292    0.268821  \n",
       "phraseology     0.666842    0.210046  \n",
       "grammar         0.673301    0.076464  \n",
       "conventions     1.000000    0.133562  \n",
       "tokens_len      0.133562    1.000000  "
      ]
     },
     "execution_count": 57,
     "metadata": {},
     "output_type": "execute_result"
    }
   ],
   "source": [
    "train_df.corr(numeric_only=True)"
   ]
  },
  {
   "cell_type": "code",
   "execution_count": 25,
   "id": "9fb04fd3-53e5-402d-b4d6-328584fd242d",
   "metadata": {},
   "outputs": [
    {
     "data": {
      "text/plain": [
       "(3519, 392)"
      ]
     },
     "execution_count": 25,
     "metadata": {},
     "output_type": "execute_result"
    }
   ],
   "source": [
    "train, valid = train_test_split(train_df, test_size=0.1, shuffle=True)\n",
    "\n",
    "splits = {\n",
    " \"train\": train,\n",
    " \"valid\": valid,\n",
    "}\n",
    "\n",
    "len(train), len(valid)"
   ]
  },
  {
   "cell_type": "code",
   "execution_count": 60,
   "id": "0e1f51fb-8148-45f9-bf70-a7fb49a05b9c",
   "metadata": {},
   "outputs": [],
   "source": [
    "from transformers import BertTokenizer"
   ]
  },
  {
   "cell_type": "code",
   "execution_count": null,
   "id": "6dbafe9b-b8d4-4012-b51d-ce16c2357053",
   "metadata": {},
   "outputs": [],
   "source": [
    "encoded = tz.encode_plus(\n",
    "    text=sent,  # the sentence to be encoded\n",
    "    add_special_tokens=True,  # Add [CLS] and [SEP]\n",
    "    max_length = 64,  # maximum length of a sentence\n",
    "    pad_to_max_length=True,  # Add [PAD]s\n",
    "    return_attention_mask = True,  # Generate the attention mask\n",
    "    return_tensors = 'pt',  # ask the function to return PyTorch tensors\n",
    ")"
   ]
  },
  {
   "cell_type": "markdown",
   "id": "25655ca9-20cb-4f6c-ad92-e6037680b95f",
   "metadata": {},
   "source": [
    "# Tokenizer"
   ]
  },
  {
   "cell_type": "code",
   "execution_count": null,
   "id": "fe2a344f-1348-438c-b180-944b9e859480",
   "metadata": {},
   "outputs": [],
   "source": [
    "from transformers import BertModel\n",
    "from transformers import BertTokenizer\n",
    "\n",
    "tz = BertTokenizer.from_pretrained(\"bert-base-uncased\")\n",
    "bert = BertModel.from_pretrained(\"bert-base-uncased\")\n",
    "bert_embed = bert.embeddings.word_embeddings"
   ]
  },
  {
   "cell_type": "code",
   "execution_count": 99,
   "id": "44d05189-3c98-445e-a91b-8964ea9bbd01",
   "metadata": {},
   "outputs": [
    {
     "data": {
      "text/plain": [
       "{'input_ids': [101, 1045, 2066, 2082, 1012, 7592, 2088, 1012, 102], 'token_type_ids': [0, 0, 0, 0, 0, 0, 0, 0, 0], 'attention_mask': [1, 1, 1, 1, 1, 1, 1, 1, 1]}"
      ]
     },
     "execution_count": 99,
     "metadata": {},
     "output_type": "execute_result"
    }
   ],
   "source": [
    "t = '''I like school.\n",
    "\n",
    "Hello world.'''\n",
    "enc = tz(t)\n",
    "enc"
   ]
  },
  {
   "cell_type": "code",
   "execution_count": 100,
   "id": "79dc8f8f-d040-4259-a24a-b1f44098a9cd",
   "metadata": {},
   "outputs": [
    {
     "data": {
      "text/plain": [
       "['[CLS]', 'i', 'like', 'school', '.', 'hello', 'world', '.', '[SEP]']"
      ]
     },
     "execution_count": 100,
     "metadata": {},
     "output_type": "execute_result"
    }
   ],
   "source": [
    "tz.convert_ids_to_tokens(enc[\"input_ids\"])"
   ]
  },
  {
   "cell_type": "markdown",
   "id": "4d98faba-ee6a-4d4a-b89e-bf8b223dfc19",
   "metadata": {},
   "source": [
    "We can see that the tokenizer would:\n",
    "- Remove newline\n",
    "- Add [CLS] and [SEP] to beginning and end of text\n",
    "\n",
    "In the context of this model where we are evaluating an essay, we don't need special tokens as they are mostly used for generative model (?)"
   ]
  },
  {
   "cell_type": "code",
   "execution_count": 103,
   "id": "9d5d198f-dd36-42db-a948-be5d366f356d",
   "metadata": {},
   "outputs": [
    {
     "data": {
      "text/plain": [
       "['i', 'like', 'school', '.', 'hello', 'world', '.']"
      ]
     },
     "execution_count": 103,
     "metadata": {},
     "output_type": "execute_result"
    }
   ],
   "source": [
    "t = '''I like school.\n",
    "\n",
    "Hello world.'''\n",
    "enc = tz(t, add_special_tokens=False)\n",
    "tz.convert_ids_to_tokens(enc[\"input_ids\"])"
   ]
  },
  {
   "cell_type": "code",
   "execution_count": 105,
   "id": "f5dbafc3-4427-4168-b24b-9fd272c49d5c",
   "metadata": {},
   "outputs": [
    {
     "data": {
      "text/plain": [
       "{'input_ids': [[1045, 2066, 2082], [7592, 0, 0]], 'token_type_ids': [[0, 0, 0], [0, 0, 0]], 'attention_mask': [[1, 1, 1], [1, 0, 0]]}"
      ]
     },
     "execution_count": 105,
     "metadata": {},
     "output_type": "execute_result"
    }
   ],
   "source": [
    "x = [\"i like school\", \"hello\"] \n",
    "tz(x, add_special_tokens=False, padding=\"longest\")"
   ]
  },
  {
   "cell_type": "code",
   "execution_count": 140,
   "id": "31f381bd-6c6d-48ee-816d-b611e5bf242c",
   "metadata": {},
   "outputs": [
    {
     "data": {
      "text/plain": [
       "{'input_ids': tensor([[6203, 4054, 1010,  ...,    0,    0,    0],\n",
       "        [1996, 2493, 4607,  ...,    0,    0,    0],\n",
       "        [1996, 2224, 1997,  ..., 2279, 2154, 1012],\n",
       "        [1045, 2903, 2008,  ...,    0,    0,    0],\n",
       "        [2003, 2256, 2627,  ...,    0,    0,    0]]), 'token_type_ids': tensor([[0, 0, 0,  ..., 0, 0, 0],\n",
       "        [0, 0, 0,  ..., 0, 0, 0],\n",
       "        [0, 0, 0,  ..., 0, 0, 0],\n",
       "        [0, 0, 0,  ..., 0, 0, 0],\n",
       "        [0, 0, 0,  ..., 0, 0, 0]]), 'attention_mask': tensor([[1, 1, 1,  ..., 0, 0, 0],\n",
       "        [1, 1, 1,  ..., 0, 0, 0],\n",
       "        [1, 1, 1,  ..., 1, 1, 1],\n",
       "        [1, 1, 1,  ..., 0, 0, 0],\n",
       "        [1, 1, 1,  ..., 0, 0, 0]])}"
      ]
     },
     "execution_count": 140,
     "metadata": {},
     "output_type": "execute_result"
    }
   ],
   "source": [
    "df = splits[\"train\"]\n",
    "serie = df.full_text.iloc[0:5]\n",
    "txt = list(serie)\n",
    "enc = tz(txt, add_special_tokens=False, padding=\"longest\", return_tensors=\"pt\")\n",
    "enc"
   ]
  },
  {
   "cell_type": "code",
   "execution_count": 298,
   "id": "afc95e90-f67e-405e-bf88-8a4cff8542da",
   "metadata": {},
   "outputs": [
    {
     "data": {
      "text/plain": [
       "torch.Size([32, 256])"
      ]
     },
     "execution_count": 298,
     "metadata": {},
     "output_type": "execute_result"
    }
   ],
   "source": [
    "class DataFrameIterator:\n",
    "    def __init__(self, df, batch_size):\n",
    "        self.df = df\n",
    "        self.batch_size = batch_size\n",
    "        \n",
    "    def __iter__(self):\n",
    "        self.start = 0\n",
    "        return self\n",
    "    \n",
    "    def __len__(self):\n",
    "        last = 0 if len(self.df) % self.batch_size == 0 else 1\n",
    "        return (len(self.df) // self.batch_size) + last\n",
    "        \n",
    "    def __next__(self):\n",
    "        if self.start >= len(self.df):\n",
    "            raise StopIteration()\n",
    "        \n",
    "        end = self.start + self.batch_size\n",
    "        txt = list(self.df.full_text.iloc[self.start:end])\n",
    "        enc = tz(txt, \n",
    "                 add_special_tokens=False,\n",
    "                 return_tensors=\"pt\",\n",
    "                 max_length=256,\n",
    "                 padding=\"max_length\",\n",
    "                 truncation=True)\n",
    "        \n",
    "        x = enc[\"input_ids\"]\n",
    "        y = torch.tensor(list(self.df.grammar.iloc[self.start:end])).float()\n",
    "        self.start = end\n",
    "        return x, y\n",
    "    \n",
    "    \n",
    "itr = iter(DataFrameIterator(splits[\"train\"], 32))\n",
    "x, y = next(itr)\n",
    "x.shape"
   ]
  },
  {
   "cell_type": "code",
   "execution_count": 299,
   "id": "fce77059-455d-4372-8b1a-bcfd37ba961b",
   "metadata": {},
   "outputs": [
    {
     "data": {
      "text/plain": [
       "110"
      ]
     },
     "execution_count": 299,
     "metadata": {},
     "output_type": "execute_result"
    }
   ],
   "source": [
    "len(itr)"
   ]
  },
  {
   "cell_type": "markdown",
   "id": "28ed0fd7-daa7-4cd3-9506-9971f11d420c",
   "metadata": {},
   "source": [
    "## Model"
   ]
  },
  {
   "cell_type": "code",
   "execution_count": 303,
   "id": "17aaddbd-eb9b-4cbc-a636-996e8a377c9e",
   "metadata": {},
   "outputs": [],
   "source": [
    "class LSTM(nn.Module):\n",
    "    \n",
    "    def __init__(self, emb, hidden_size):\n",
    "        super().__init__()\n",
    "        vocab_size, embed_size = emb.weight.shape\n",
    "        self.hidden_size = hidden_size\n",
    "        \n",
    "        self.emb = emb.to(torch.float64)\n",
    "        self.lstm = nn.LSTM(embed_size, hidden_size, batch_first=True, dtype=torch.float64)\n",
    "        self.linear = nn.Linear(hidden_size, 1, dtype=torch.float64)\n",
    "        \n",
    "    def forward(self, x):\n",
    "        B, _, = x.shape\n",
    "        emb = self.emb(x) # (B, L, emb)\n",
    "        seq, (hidden, _) = self.lstm(emb) # (1, B, hidden)\n",
    "        hidden = hidden.view(B, self.hidden_size) # (B, hidden)\n",
    "        y = self.linear(hidden) # (B, 1)\n",
    "        y = y.view(B)  # (B)\n",
    "        y = y.float()\n",
    "        \n",
    "        return y"
   ]
  },
  {
   "cell_type": "code",
   "execution_count": 285,
   "id": "b0331e41-0727-40a5-8574-027d32bd4fad",
   "metadata": {},
   "outputs": [],
   "source": [
    "itr = iter(DataFrameIterator(splits[\"train\"], 32))\n",
    "model = LSTM(bert_embed, hidden_size=512)"
   ]
  },
  {
   "cell_type": "code",
   "execution_count": 287,
   "id": "9ff7c2a5-90eb-4724-ad1e-55ad2db10ff4",
   "metadata": {},
   "outputs": [
    {
     "data": {
      "text/plain": [
       "tensor([ 0.0017,  0.0073,  0.0019, -0.0030,  0.0036,  0.0129,  0.0004,  0.0035,\n",
       "         0.0060,  0.0050,  0.0013,  0.0041,  0.0036,  0.0036,  0.0009, -0.0002,\n",
       "         0.0036,  0.0062,  0.0118,  0.0002, -0.0004,  0.0060,  0.0052,  0.0017,\n",
       "         0.0036,  0.0036, -0.0062,  0.0036,  0.0039,  0.0052,  0.0050,  0.0060],\n",
       "       dtype=torch.float64, grad_fn=<ViewBackward0>)"
      ]
     },
     "execution_count": 287,
     "metadata": {},
     "output_type": "execute_result"
    }
   ],
   "source": [
    "x, y = next(itr)\n",
    "yh = model(x)\n",
    "yh"
   ]
  },
  {
   "cell_type": "code",
   "execution_count": 260,
   "id": "cecd73fb-6029-43e0-95e8-f9ed81d68bf6",
   "metadata": {},
   "outputs": [
    {
     "data": {
      "text/plain": [
       "<matplotlib.image.AxesImage at 0x29e362560>"
      ]
     },
     "execution_count": 260,
     "metadata": {},
     "output_type": "execute_result"
    },
    {
     "data": {
      "image/png": "[encoded data removed]",
      "text/plain": [
       "<Figure size 640x480 with 1 Axes>"
      ]
     },
     "metadata": {},
     "output_type": "display_data"
    }
   ],
   "source": [
    "h = hidden.detach().numpy()\n",
    "h = h * 100\n",
    "plt.imshow(h)"
   ]
  },
  {
   "cell_type": "code",
   "execution_count": 261,
   "id": "d31f9ba3-594a-40fd-88f8-6c010d75cf1d",
   "metadata": {},
   "outputs": [
    {
     "data": {
      "text/plain": [
       "tensor(0.5000)"
      ]
     },
     "execution_count": 261,
     "metadata": {},
     "output_type": "execute_result"
    }
   ],
   "source": [
    "y = torch.tensor([ 1.0, 2.0, 3.0, 4.0])\n",
    "yh = torch.tensor([1.0, 2.1, 4.0, 6.0])\n",
    "\n",
    "def bound_accuracy(y, yh, bound=0.5):\n",
    "    dif = (y - yh).abs()\n",
    "    acc = (dif <= bound).float().mean()\n",
    "    return acc\n",
    "\n",
    "bound_accuracy(y, yh, 0.5)"
   ]
  },
  {
   "cell_type": "code",
   "execution_count": 262,
   "id": "092f08f8-07a6-4fe5-a395-6e480799f4a0",
   "metadata": {},
   "outputs": [
    {
     "data": {
      "text/plain": [
       "tensor(0.6000)"
      ]
     },
     "execution_count": 262,
     "metadata": {},
     "output_type": "execute_result"
    }
   ],
   "source": [
    "def r_sqr(y, yh):    \n",
    "    ssr = ((yh - y)**2).sum()\n",
    "    ssm = ((yh - y.mean())**2).sum()\n",
    "\n",
    "    return 1 - ssr/ssm\n",
    "\n",
    "\n",
    "y = torch.tensor([1, 2]).float()\n",
    "yh = torch.tensor([1, 3]).float()\n",
    "r_sqr(y, yh)"
   ]
  },
  {
   "cell_type": "code",
   "execution_count": 289,
   "id": "304ace53-c26c-47dc-b809-fa346c02af52",
   "metadata": {},
   "outputs": [],
   "source": [
    "@torch.no_grad()\n",
    "def eval_split(model, split):\n",
    "    model.eval()\n",
    "    \n",
    "    df = splits[split]\n",
    "    itr = DataFrameIterator(df, batch_size=32)\n",
    "    \n",
    "    yi = []\n",
    "    yhi = []\n",
    "    lossi = [] \n",
    "\n",
    "    for xb, yb in tqdm(itr):\n",
    "        yh = model(xb)\n",
    "        loss = F.mse_loss(yb, yh, reduction=\"mean\")\n",
    "        lossi.append(loss.item())\n",
    "        yi += yb\n",
    "        yhi += yh\n",
    "\n",
    "    yi = torch.tensor(yi)\n",
    "    yhi = torch.tensor(yhi)    \n",
    "    loss = np.mean(lossi)\n",
    "    r2 = r_sqr(yi, yhi)\n",
    "    acc = bound_accuracy(yi, yhi, 0.5)\n",
    "\n",
    "    return np.mean(lossi), acc, r2"
   ]
  },
  {
   "cell_type": "code",
   "execution_count": 308,
   "id": "20568921-2164-4160-95c3-095ca4b5a175",
   "metadata": {},
   "outputs": [
    {
     "data": {
      "text/plain": [
       "26066945"
      ]
     },
     "execution_count": 308,
     "metadata": {},
     "output_type": "execute_result"
    }
   ],
   "source": [
    "model = LSTM(bert_embed, hidden_size=512)\n",
    "opti = optim.Adam(model.parameters())\n",
    "sum(p.numel() for p in model.parameters() if p.requires_grad)"
   ]
  },
  {
   "cell_type": "code",
   "execution_count": 291,
   "id": "5166c5de-6e96-427a-92ca-6518981a0926",
   "metadata": {},
   "outputs": [
    {
     "name": "stderr",
     "output_type": "stream",
     "text": [
      "100%|█████████████████████████████████████████████████████████████████████████████████████████████████████████████████████████████████████████████| 13/13 [00:05<00:00,  2.19it/s]\n"
     ]
    },
    {
     "data": {
      "text/plain": [
       "(9.577255947737585, tensor(0.), tensor(-0.0513, dtype=torch.float64))"
      ]
     },
     "execution_count": 291,
     "metadata": {},
     "output_type": "execute_result"
    }
   ],
   "source": [
    "eval_split(model, \"valid\")"
   ]
  },
  {
   "cell_type": "code",
   "execution_count": 292,
   "id": "62e5c015-de23-41f6-8aa6-96768e73d4a5",
   "metadata": {},
   "outputs": [],
   "source": [
    "gra_mean = train_df['grammar'].mean()\n",
    "\n",
    "def baseline_model(x):\n",
    "    B, L = x.shape\n",
    "    y = torch.tensor(gra_mean)\n",
    "    return y.repeat(B)\n",
    "\n",
    "baseline_model.eval = lambda :None"
   ]
  },
  {
   "cell_type": "code",
   "execution_count": 293,
   "id": "76c52b97-105c-472c-b86c-3f9e873b9c60",
   "metadata": {},
   "outputs": [
    {
     "name": "stderr",
     "output_type": "stream",
     "text": [
      "100%|█████████████████████████████████████████████████████████████████████████████████████████████████████████████████████████████████████████████| 13/13 [00:01<00:00,  9.00it/s]"
     ]
    },
    {
     "name": "stdout",
     "output_type": "stream",
     "text": [
      "(0.46097659267926083, tensor(0.4821), tensor(-185614.6153, dtype=torch.float64))\n"
     ]
    },
    {
     "name": "stderr",
     "output_type": "stream",
     "text": [
      "\n"
     ]
    }
   ],
   "source": [
    "print(eval_split(baseline_model, \"valid\"))"
   ]
  },
  {
   "cell_type": "code",
   "execution_count": null,
   "id": "c019c3b5-5f04-489f-adf0-97dcf93fbe53",
   "metadata": {},
   "outputs": [
    {
     "name": "stdout",
     "output_type": "stream",
     "text": [
      "   0/ 110: 0.6861  0.3750\n",
      "  10/ 110: 0.4251  0.5000\n",
      "  20/ 110: 0.5527  0.5312\n",
      "  30/ 110: 0.5440  0.4688\n",
      "  40/ 110: 0.5617  0.2500\n",
      "  50/ 110: 0.4797  0.5000\n",
      "  60/ 110: 0.4355  0.5312\n",
      "  70/ 110: 0.4383  0.3750\n",
      "  80/ 110: 0.5497  0.3750\n",
      "  90/ 110: 0.4543  0.3750\n",
      " 100/ 110: 0.4938  0.5938\n"
     ]
    }
   ],
   "source": [
    "model.train()\n",
    "\n",
    "df = splits[\"train\"]\n",
    "itr = DataFrameIterator(df, batch_size=32)\n",
    "n = len(itr)\n",
    "\n",
    "for i, (xb, yb) in enumerate(itr):\n",
    "    yh = model(xb)\n",
    "    loss = F.mse_loss(yb, yh, reduction=\"mean\")\n",
    "    opti.zero_grad()\n",
    "    loss.backward()\n",
    "    opti.step()\n",
    "    \n",
    "    if i % 10 == 0:\n",
    "        acc = bound_accuracy(yb, yh, 0.5)\n",
    "        print(f\"{i:4d}/{n:4d}: {loss.item():.4f}  {acc:.4f}\")"
   ]
  },
  {
   "cell_type": "code",
   "execution_count": null,
   "id": "3752727d-9ffb-44c9-9e6d-5f8d0948f521",
   "metadata": {},
   "outputs": [],
   "source": [
    "eval_split(model, \"valid\")"
   ]
  },
  {
   "cell_type": "markdown",
   "id": "2a2b2d10-7c12-443c-aa50-25d68dc8cf55",
   "metadata": {},
   "source": [
    "## Transformer"
   ]
  },
  {
   "cell_type": "code",
   "execution_count": 40,
   "id": "91e3135d-6d79-43dd-b6b8-02b0bd65dd93",
   "metadata": {},
   "outputs": [],
   "source": [
    "@dataclass\n",
    "class Config:\n",
    "    vocab_size: int\n",
    "    block_size: int\n",
    "    emb_size: int\n",
    "    head_num: int\n",
    "    head_size: int\n",
    "    layer_num: int\n",
    "    ctoi: dict\n",
    "    dropout: float\n",
    "\n",
    "\n",
    "class MultiHeadAttension(nn.Module):\n",
    "\n",
    "    def __init__(self, c: Config):\n",
    "        super().__init__()\n",
    "        assert c.emb_size / c.head_size == c.head_num\n",
    "\n",
    "        self.head_size = c.head_size\n",
    "        self.head_num = c.head_num\n",
    "        self.attn = nn.Linear(\n",
    "            c.emb_size, 3 * c.head_num * c.head_size, bias=False)\n",
    "        self.ffn = nn.Linear(c.head_num * c.head_size, c.emb_size, bias=False)\n",
    "\n",
    "        self.attn_dropout = nn.Dropout(c.dropout)\n",
    "        self.resid_dropout = nn.Dropout(c.dropout)\n",
    "\n",
    "    # x: (B, L, C)\n",
    "    # return: (B, L, C)\n",
    "    def forward(self, x):\n",
    "        B, L, C = x.shape\n",
    "\n",
    "        z = self.attn(x)  # (B, L, 3 * hn * hs)\n",
    "        k, q, v = torch.split(\n",
    "            z, self.head_num * self.head_size, dim=2)  # (B, L, hn * hs)\n",
    "\n",
    "        k = k.view(B, L, self.head_num, self.head_size).permute(\n",
    "            0, 2, 1, 3)  # (B, hn, L, hs)\n",
    "        q = q.view(B, L, self.head_num, self.head_size).permute(0, 2, 1, 3)\n",
    "        v = v.view(B, L, self.head_num, self.head_size).permute(0, 2, 1, 3)\n",
    "\n",
    "        q = q.permute(0, 1, 3, 2)  # (B, hn, hs, L)\n",
    "        attn = (k @ q) / self.head_size**0.5  # (B, hn, L, L)\n",
    "        mask = torch.tril(torch.ones(L, L)) == 0\n",
    "        mask = mask.to(x.device)\n",
    "        attn = attn.masked_fill(mask, -float('inf'))  # (B, hn, L, L)\n",
    "        attn = F.softmax(attn, dim=3)\n",
    "        attn = self.attn_dropout(attn)\n",
    "\n",
    "        y = attn @ v  # (B, hn, L, hs)\n",
    "        y = y.permute(0, 2, 1, 3)  # (B, L, hn, hs)\n",
    "        y = y.contiguous().view(B, L, -1)  # (B, L, hn * hs)\n",
    "        y = self.ffn(y)  # (B, L, C)\n",
    "        y = self.resid_dropout(y)\n",
    "\n",
    "        return y\n",
    "\n",
    "\n",
    "class FeedForward(nn.Module):\n",
    "\n",
    "    def __init__(self, c: Config):\n",
    "        super().__init__()\n",
    "        self.linear1 = nn.Linear(c.emb_size, 2 * c.emb_size)\n",
    "        self.linear2 = nn.Linear(2 * c.emb_size, c.emb_size)\n",
    "        self.dropout = nn.Dropout(c.dropout)\n",
    "\n",
    "    # (B, L, C)\n",
    "    def forward(self, x):\n",
    "        y = self.linear1(x)\n",
    "        y = torch.relu(y)\n",
    "        y = self.linear2(y)\n",
    "        y = self.dropout(y)\n",
    "\n",
    "        return y\n",
    "\n",
    "\n",
    "class Block(nn.Module):\n",
    "\n",
    "    def __init__(self, c: Config):\n",
    "        super().__init__()\n",
    "\n",
    "        assert c.emb_size % c.head_size == 0\n",
    "        assert c.emb_size / c.head_size == c.head_num\n",
    "\n",
    "        self.mha = MultiHeadAttension(c)\n",
    "        self.lnorm1 = nn.LayerNorm(c.emb_size)\n",
    "        self.lnorm2 = nn.LayerNorm(c.emb_size)\n",
    "        self.ffn = FeedForward(c)\n",
    "\n",
    "    # x: (B, L, emb)\n",
    "    def forward(self, x):\n",
    "        y = self.mha(x) + x\n",
    "        y = self.lnorm1(y)\n",
    "        y = self.ffn(y) + y\n",
    "        y = self.lnorm2(y)\n",
    "        return y\n",
    "\n",
    "\n",
    "class Transformer(nn.Module):\n",
    "\n",
    "    def __init__(self, c: Config, embed):\n",
    "        super().__init__()\n",
    "        self.config = c\n",
    "        self.embed = embed\n",
    "        self.dropout = nn.Dropout(c.dropout)\n",
    "        self.blocks = nn.Sequential(\n",
    "            *[Block(c) for _ in range(c.layer_num)]\n",
    "        )\n",
    "        self.proj = nn.Linear(c.emb_size, c.vocab_size)\n",
    "\n",
    "    # return (L, C)\n",
    "    def pos_encoding(self, x):\n",
    "        B, L, C = x.shape\n",
    "        pos = torch.arange(0, L).view(-1, 1)  # (L, 1)\n",
    "        div = 2 * torch.arange(0, C) / C  # (C)\n",
    "        div = torch.pow(10000, div)  # (C)\n",
    "        e = pos / div\n",
    "        pe = torch.zeros(L, C)\n",
    "        pe[:, 0::2] = torch.sin(e[:, 0::2])\n",
    "        pe[:, 1::2] = torch.cos(e[:, 1::2])\n",
    "\n",
    "        pe = pe.to(x.device)\n",
    "        return pe\n",
    "\n",
    "    # (B, L) -> (B, L, C)\n",
    "    def forward(self, x):        \n",
    "        y = self.embed(x)  # (B, L, emb)\n",
    "        y = y + self.pos_encoding(y)  # (B, L, emb)\n",
    "        y = self.dropout(y)\n",
    "        y = self.blocks(y)  # (B, L, emb)\n",
    "        y = self.proj(y)  # (B, L, vocab)\n",
    "\n",
    "        return y\n",
    "\n",
    "    @torch.no_grad()\n",
    "    def sample(self, max_len):\n",
    "        device = next(self.parameters()).device\n",
    "    \n",
    "        self.eval()\n",
    "        itoc = {i: c for c, i in self.config.ctoi.items()}\n",
    "        tks = [0] * self.config.block_size\n",
    "\n",
    "        for i in range(max_len):\n",
    "            ctx = torch.tensor(tks[i:i+self.config.block_size], device=device)  # (L)\n",
    "            ctx = ctx.view(1, -1)  # (B, L)\n",
    "\n",
    "            logits = self.forward(ctx)  # (B, L, C)\n",
    "            probs = F.softmax(logits, dim=2)  # (B, L, C)\n",
    "            # (C), # the last in the sequence is the newly generated\n",
    "            probs = probs[0, -1, :]\n",
    "            yi = torch.multinomial(probs, 1)\n",
    "            tks.append(yi.item())\n",
    "\n",
    "        tks = tks[self.config.block_size:]\n",
    "        chars = [itoc.get(t, \"_\") for t in tks]\n",
    "        self.train()\n",
    "        return \"\".join(chars)"
   ]
  },
  {
   "cell_type": "code",
   "execution_count": null,
   "id": "7cc8f64b-6041-4754-b62b-dc6e3e90bdc1",
   "metadata": {},
   "outputs": [
    {
     "data": {
      "text/plain": [
       "torch.Size([30522, 768])"
      ]
     },
     "execution_count": 38,
     "metadata": {},
     "output_type": "execute_result"
    }
   ],
   "source": [
    "bert_embed.weight.shape"
   ]
  },
  {
   "cell_type": "code",
   "execution_count": 52,
   "id": "a81a8311-f2c5-4635-86f5-a6d53c3e652c",
   "metadata": {},
   "outputs": [],
   "source": [
    "vocab_size, emb_size = bert_embed.weight.shape\n",
    "config = Config(\n",
    "    vocab_size=vocab_size,\n",
    "    emb_size=emb_size,\n",
    "    block_size=256,\n",
    "    head_num=12,\n",
    "    head_size=64,\n",
    "    layer_num=2,\n",
    "    ctoi=tokenizer.vocab,\n",
    "    dropout=0\n",
    ")\n",
    "\n",
    "tf_model = Transformer(config, bert_embed)"
   ]
  },
  {
   "cell_type": "code",
   "execution_count": 53,
   "id": "e4b52106-84f9-4fab-b405-c2fec1564a3f",
   "metadata": {},
   "outputs": [
    {
     "data": {
      "text/plain": [
       "'whoa##riumcomfortsidewalk[unused487]films##bah##kk##olsroundabout'"
      ]
     },
     "execution_count": 53,
     "metadata": {},
     "output_type": "execute_result"
    }
   ],
   "source": [
    "tf_model.sample(10)"
   ]
  },
  {
   "cell_type": "markdown",
   "id": "08e1082c-192c-46a5-8693-8d9ff972f496",
   "metadata": {},
   "source": [
    "# Log\n",
    "validation performan, (loss, 0.5 bounded accuracy)\n",
    "\n",
    "- Baseline: 0.4882, 0.4917\n",
    "- LSTM, before training: 9.9371, 0\n",
    "- LSTM, single data, 900 run: 0.5717, 0.4840\n"
   ]
  },
  {
   "cell_type": "code",
   "execution_count": null,
   "id": "52daef44-038d-415f-a795-b1937cbc9a28",
   "metadata": {},
   "outputs": [],
   "source": []
  }
 ],
 "metadata": {
  "kernelspec": {
   "display_name": "Python 3 (ipykernel)",
   "language": "python",
   "name": "python3"
  },
  "language_info": {
   "codemirror_mode": {
    "name": "ipython",
    "version": 3
   },
   "file_extension": ".py",
   "mimetype": "text/x-python",
   "name": "python",
   "nbconvert_exporter": "python",
   "pygments_lexer": "ipython3",
   "version": "3.10.8"
  }
 },
 "nbformat": 4,
 "nbformat_minor": 5
}
